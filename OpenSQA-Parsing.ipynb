{
 "cells": [
  {
   "cell_type": "code",
   "execution_count": 144,
   "id": "da63f975",
   "metadata": {},
   "outputs": [],
   "source": [
    "import json\n",
    "import numpy as np\n",
    "from tqdm import tqdm\n",
    "import re"
   ]
  },
  {
   "cell_type": "code",
   "execution_count": 145,
   "id": "b62f6ddb",
   "metadata": {},
   "outputs": [],
   "source": [
    "q_regex = re.compile(r\"^\\d{1,2}\\. |^\\W{0,5}Question\\s?\\d{0,2}\\W{0,5}|^\\W{0,5}Q\\s?\\d{1,2}\\W{0,5}\")\n",
    "a_regex = re.compile(r\"^\\d{0,2}\\W{0,5}Answer\\s?\\d{0,2}\\W{0,5}|^-|^\\d{0,2}\\W{0,5}A\\s?\\d{0,2}\\W{0,5}:\")\n",
    "\n",
    "\n",
    "def tuplize_qa_pair(q, a):\n",
    "    a=a.strip()\n",
    "    if len(a):\n",
    "        if a_regex.match(a):\n",
    "            a_preface, a_content = a_regex.split(a,1)\n",
    "        elif a[0].isalpha():\n",
    "            a_content = a\n",
    "        else:\n",
    "            raise RuntimeError(f\"Answer regex incomplete: {q}\\nANSWER:{a}\")\n",
    "        \n",
    "        a_content = a_content.strip()\n",
    "        if len(a_content)<10:\n",
    "            print(f\"Small answer dropping: {a_content}\")\n",
    "            return None\n",
    "        return (q, a_content)\n",
    "    else:\n",
    "        return None\n",
    "\n",
    "\n",
    "def one_example(sample):\n",
    "    sample_dict = json.loads(sample)\n",
    "    qa_lines = sample_dict[\"messages\"][2][\"content\"].split(\"\\n\")\n",
    "    qa_pair_list = []\n",
    "    q_prefix = ''\n",
    "    q_content = ''\n",
    "    a = ''\n",
    "    missing = 0\n",
    "    for line in qa_lines:\n",
    "        line = line.strip()\n",
    "        if q_regex.match(line) and not a_regex.match(line):\n",
    "            old_q_prefix = q_prefix\n",
    "            old_q_content = q_content\n",
    "            assert len(q_regex.findall(line))==1, q_regex.findall(line)\n",
    "            q_prefix = q_regex.findall(line)[0]\n",
    "            q_content  = q_regex.split(line,1)[1]\n",
    "            if q_prefix == old_q_prefix and re.match(r\"\\d\",q_prefix):\n",
    "                # Answer recovery when q and a are both 1. 2. etc\n",
    "                a+=q_content+\"\\n\"\n",
    "                q_content = old_q_content\n",
    "            else:\n",
    "                qa_pair = tuplize_qa_pair(q_content, a)\n",
    "                if qa_pair is not None:\n",
    "                    qa_pair_list.append(qa_pair)\n",
    "                a = ''\n",
    "        else:\n",
    "            a+=line+'\\n'\n",
    "    qa_pair = tuplize_qa_pair(q_content, a)\n",
    "    if qa_pair is not None:\n",
    "        qa_pair_list.append(qa_pair)\n",
    "    return qa_pair_list, 10-len(qa_pair_list)"
   ]
  },
  {
   "cell_type": "code",
   "execution_count": 146,
   "id": "ff19cbf8",
   "metadata": {},
   "outputs": [],
   "source": [
    "with open(\"opensqa_10hz_0-13150.jsonl\",\"r\") as f:\n",
    "    samples = f.readlines()\n",
    "f.close()"
   ]
  },
  {
   "cell_type": "code",
   "execution_count": 147,
   "id": "f3bd93ac-88c7-43a2-869f-5b845dc0bd84",
   "metadata": {},
   "outputs": [
    {
     "name": "stderr",
     "output_type": "stream",
     "text": [
      "  0%|                                                      | 0/13150 [00:00<?, ?it/s]"
     ]
    },
    {
     "name": "stderr",
     "output_type": "stream",
     "text": [
      " 25%|█████████▊                              | 3226/13150 [00:00<00:00, 16046.82it/s]"
     ]
    },
    {
     "name": "stdout",
     "output_type": "stream",
     "text": [
      "Small answer dropping: \n",
      "10 missing:1. How can you interpret the fluctuation in the gyroscope data during the stair climbing activity?\n",
      "2. Based on the accelerometer data pattern, what can you infer about the user's motion while ascending the stairs?\n",
      "3. Is there a correlation between the initial slight increase in acceleration and the user's motion at the start of stair climbing?\n",
      "4. How do the fluctuations in acceleration values in the accelerometer data correlate with the changes in speed or step height during the stair climbing activity?\n",
      "5. What do the noticeable increase in acceleration towards the end of the data signify about the user's position on the stairs?\n",
      "6. How do the gyroscope readings indicating minor body orientation adjustments relate to the user's balance during the stair climbing activity?\n",
      "7. Can you explain how the consistent changes in acceleration values align with the user's movement up the stairs?\n",
      "8. How does the rhythmic pattern of the accelerometer data reflect the user's motion while climbing stairs?\n",
      "9. What insights can you gather from the gyroscope data regarding the user's stability and control during the climbing activity?\n",
      "10. How do the varied accelerations captured by the accelerometer data contribute to understanding the dynamics of stair climbing in this scenario?\n",
      "[]\n",
      "Small answer dropping: \n",
      "10 missing:1. Based on the gyroscope data showing peaks and troughs aligning with the user's steps, can we determine the frequency of the periodic motion during walking?\n",
      "2. Yes, we can determine the frequency of the periodic motion during walking by analyzing the time intervals between consecutive peaks or troughs in the gyroscope data. The reciprocal of the average time interval would give us the frequency of the periodic motion.\n",
      "\n",
      "3. How can we distinguish between the gyroscope data related to rotation of the device versus the gyroscope data related to the user's steps during walking?\n",
      "4. To distinguish between rotations of the device and the user's steps, we can analyze the consistency and periodicity of the gyroscope readings. Rotations of the device would result in sporadic and irregular patterns, while the user's steps would exhibit a rhythmic and periodic pattern matching a typical walking gait.\n",
      "\n",
      "5. Can we estimate the walking speed of the user based on the accelerometer data provided?\n",
      "6. Yes, the walking speed can be estimated based on the magnitude of acceleration values in the accelerometer data. Faster walking speeds would result in higher acceleration magnitudes, while slower speeds would correspond to lower acceleration magnitudes.\n",
      "\n",
      "7. How can we differentiate between different phases of the walking gait (e.g., stance phase, swing phase) using the gyroscope and accelerometer data?\n",
      "8. Different phases of the walking gait can be differentiated by analyzing the patterns in both the gyroscope and accelerometer data. The stance phase typically shows consistent acceleration values, while the swing phase may exhibit fluctuations. The gyroscope data can also provide insights into the rotational movements, which can further aid in identifying different gait phases.\n",
      "\n",
      "9. Is it possible to identify any abnormalities or deviations in the walking pattern of the user from the provided sensor data?\n",
      "10. Yes, abnormalities or deviations in the walking pattern can be identified by analyzing inconsistencies or irregularities in the gyroscope and accelerometer data. Sudden spikes or drops in values, unexpected patterns, or significant deviations from typical walking gait characteristics could indicate abnormalities in the user's walking pattern.\n",
      "[]\n",
      "Small answer dropping: Yes\n",
      "10 missing:1. Based on the gyroscope data showing negative values and consistent fluctuations in all axes, can you determine if the biking involved any sharp turns? If so, how do the gyroscopic values support this?\n",
      "2. What can be inferred about the speed variations during the biking activity by analyzing the accelerometer data and its changes over time?\n",
      "3. How do the patterns in the gyroscope data indicate the difference between maintaining a straight path while biking versus making a turn?\n",
      "4. Can you identify any specific moments during the biking activity where the accelerometer data suggests the presence of irregular surfaces or obstacles on the road?\n",
      "5. By comparing the overall trends in the gyroscope and accelerometer data, can you estimate the duration of the biking activity and any breaks taken during it?\n",
      "6. How do the gyroscope values align with the narration describing gradual changes in the biking event's acceleration and deceleration at the start?\n",
      "7. Can the accelerometer readings provide insights into the intensity or level of physical exertion during certain segments of the biking activity?\n",
      "8. Considering the end of the narration stating the gyroscope and accelerometer values returning to baseline, what can this tell us about the biker's behavior as the activity concluded?\n",
      "9. Is it possible to identify any specific actions such as sudden stops, speed changes, or obstacles encountered during the biking event by analyzing both gyroscope and accelerometer data simultaneously?\n",
      "10. How might the gyroscope and accelerometer data differ if the biking was done on a smooth, paved road compared to a bumpy, off-road trail, and can you find any indications in the provided sensor readings to support this differentiation?\n",
      "[]\n"
     ]
    },
    {
     "name": "stderr",
     "output_type": "stream",
     "text": [
      " 61%|████████████████████████▍               | 8038/13150 [00:00<00:00, 16002.54it/s]"
     ]
    },
    {
     "name": "stdout",
     "output_type": "stream",
     "text": [
      "Small answer dropping: \n",
      "10 missing:1. Based on the gyroscopic data provided, can you infer if the biker made any sudden turns or quick maneuvers during the biking activity? Explain your reasoning.\n",
      "2. How do the patterns in the accelerometer data align with the typical motion of biking, particularly in terms of acceleration and deceleration? Provide detailed insights.\n",
      "3. Are there any instances in the gyroscope data that could indicate the biker came to a complete stop during the biking activity? Justify your answer with the data provided.\n",
      "4. Given the consistency in both the gyroscopic and accelerometer data, can you deduce if the terrain for this biking activity was mainly flat or if there were significant inclines encountered? Support your response with data analysis.\n",
      "5. How do the gyroscopic readings reflect the different biking phases mentioned in the narration, such as uphill climbs or downhill descents? Provide a detailed analysis.\n",
      "6. Is it possible to determine the speed of the biker based on the information provided in the gyroscopic and accelerometer data? If so, explain the methodology you would use for this estimation.\n",
      "7. Can you identify any instances in the accelerometer data where the biker may have applied brakes or slowed down abruptly? Provide a rationale for your interpretation.\n",
      "8. How do the changes in gyroscopic data towards the end of the activity correlate with the expected behavior of a biker preparing to dismount or coming to a stop? Explain the relationship between the data and the actions.\n",
      "9. Considering the smooth gyro movements and consistent accelerometer readings throughout the activity, can you speculate on the expertise level of the biker? How does this data support your assessment?\n",
      "10. Based on the overall sensor data provided, can you propose any additional insights or observations about the biking activity that may not have been explicitly mentioned in the summary or narration?\n",
      "[]\n",
      "10 missing:1. Based on the gyroscope data provided during the biking activity, can you explain how the user's movements are reflected in the readings?\n",
      "2. How do the accelerometer readings correlate with the gyroscope data during the biking event, and what specific insights can be derived from their combined analysis?\n",
      "3. Can the gyroscope data be used to estimate the user's speed or cadence during the biking activity? If so, what factors would you consider in this estimation?\n",
      "4. Are there any instances in the gyroscope data that indicate when the user may have made a sharp turn while biking? How can these instances be identified from the sensor readings?\n",
      "5. Looking at the accelerometer data, how do the fluctuations in the x, y, and z axes change as the biking activity progresses? What do these changes signify in terms of the user's motion?\n",
      "6. Is it possible to determine if the user encountered any rough terrain or bumps during the biking session by analyzing the gyroscope and accelerometer data patterns? If yes, what specific characteristics would you look for?\n",
      "7. How do the variations in the gyroscope readings align with the narrative of the user starting, maintaining, and eventually stopping the biking activity? Can specific segments in the data be matched to these phases?\n",
      "8. Can you identify any specific gestures or movements, such as steering or braking, performed by the user while biking, based on the gyroscope and accelerometer data patterns?\n",
      "9. Considering the overall sensor data pattern, can you suggest ways to differentiate between uphill and downhill biking segments during the activity?\n",
      "10. How would minor adjustments in the biking speed, such as coasting or slight accelerations, be reflected in both the gyroscope and accelerometer readings? Can you pinpoint any instances of such adjustments from the provided data?\n",
      "[]\n",
      "Small answer dropping: If the\n",
      "10 missing:1. Based on the gyroscope data showing small but continuous fluctuations in all axes during walking, how can we determine the consistency of the user's steps?\n",
      "2. Considering the gradual increase in gyroscope values in the z-axis during the activity, how can we infer the synchronization between arm swing and leg movement while walking?\n",
      "3. With the accelerometer data indicating consistent vertical acceleration values, how can we identify the regularity of the user's steps during the walking activity?\n",
      "4. Given the slight variations in accelerometer values, how can we interpret these changes in relation to the user's walking speed or terrain alterations?\n",
      "5. How do the fluctuations in gyroscope values in the y-axis contribute to understanding the user's body movements or adjustments during the walking activity?\n",
      "6. Considering the minimal lateral movement in the accelerometer data, how does this align with the user's balance maintenance during walking?\n",
      "7. Based on the synchronized patterns of gyroscope and accelerometer data confirming a smooth walking motion, how can we assess the overall stability and coordination of the user during the activity?\n",
      "8. Can the gyroscope data be used to estimate the distance covered by the user while walking based on the patterns observed in the dataset?\n",
      "9. How does the consistency in accelerometer values relate to the energy expenditure of the user during the walking activity?\n",
      "10. In what ways can the analysis of gyroscope and accelerometer data during walking assist in evaluating the effectiveness of rehabilitation exercises or gait correction techniques for individuals with mobility impairments?\n",
      "[]\n",
      "10 missing:1. Based on the gyroscope data provided, how do the values support the conclusion that the user is stationary during the activity of sitting?\n",
      "2. How do the accelerometer readings confirm that the user is indeed engaged in a sitting position and not performing any dynamic movements?\n",
      "3. Can the gyroscope data alone determine if the user is sitting or engaged in a different stationary activity? Why or why not?\n",
      "4. How do the gyroscope and accelerometer readings collectively indicate that the user is not changing their orientation or position significantly while sitting?\n",
      "5. What specific patterns in the gyroscope data differentiate between sitting and standing still or lying down, and how do these patterns manifest in the given dataset?\n",
      "6. Is it possible to distinguish between different sitting postures (e.g., slouching, sitting upright) solely based on the provided gyroscope and accelerometer data? If so, what parameters would you look for?\n",
      "7. How would the sensor data differ if the user was sitting on a moving object (e.g., a bus) compared to sitting stationary on a stable surface, and what characteristics would indicate this movement?\n",
      "8. Could breathing patterns be detected through the analysis of the gyroscope and accelerometer data while the user is sitting, and if so, what specific features would suggest this?\n",
      "9. In what ways could external factors, such as vibrations or disturbances in the environment, impact the accuracy of determining the user's activity based on the gyroscope and accelerometer data provided?\n",
      "10. If the user were to suddenly transition from sitting to standing while maintaining a still position, what changes would you expect to observe in the gyroscope and accelerometer data, and how would you interpret these changes in the context of the user's activity?\n",
      "[]\n"
     ]
    },
    {
     "name": "stderr",
     "output_type": "stream",
     "text": [
      " 85%|█████████████████████████████████▎     | 11234/13150 [00:00<00:00, 15800.31it/s]"
     ]
    },
    {
     "name": "stdout",
     "output_type": "stream",
     "text": [
      "10 missing:1. Given the gyroscope data indicating rhythmic movement, how can we differentiate between the different phases of the walking gait cycle using this information?\n",
      "2. How do the periodic patterns and varying magnitudes in the accelerometer data help us understand the impact of each step during walking?\n",
      "3. Can you explain how the transition from a balanced state to fore and aft movements in the gyroscope data is indicative of the walking activity?\n",
      "4. In what ways do the slight shifts in lateral accelerations captured by the accelerometer data provide insights into the user's movement patterns while walking?\n",
      "5. How do the gyroscope spikes aligning with abrupt changes in direction or quick movements contribute to understanding the user's walking behavior?\n",
      "6. Based on the variation in accelerometer values corresponding to step intensity, can we quantify the level of exertion or speed at which the individual is walking?\n",
      "7. How can the combination of gyroscope and accelerometer data be used to identify specific characteristics of the walking pattern, such as step length or cadence?\n",
      "8. Can you explain how the gyroscope data helps in differentiating between regular walking and activities like jogging or running?\n",
      "9. What specific features in the accelerometer data would indicate if the user is walking uphill or downhill during the activity?\n",
      "10. How can the gyroscope and accelerometer data be analyzed to distinguish between different walking styles, such as casual walking, speed walking, or power walking?\n",
      "[]\n",
      "10 missing:1. Based on the gyroscope data, how can you differentiate between when the user is ascending stairs versus descending stairs?\n",
      "2. How can rapid changes in angular velocity, as indicated in the gyroscope data, correlate with the user descending stairs?\n",
      "3. Can you explain how the peaks and valleys in the accelerometer data align with the user descending stairs? \n",
      "4. What patterns in the gyroscope data support the observation that the user is taking steps while descending stairs?\n",
      "5. How do the abrupt changes in both gyroscopic and accelerometer data during the descent indicate the user's movement while descending stairs?\n",
      "6. Can you identify any specific moments during the descent where there is a notable spike or dip in both the gyroscope and accelerometer readings? What could these moments signify?\n",
      "7. How do the stabilizing sensor readings towards the end of the activity, as mentioned in the narration, suggest that the user has reached the ground level?\n",
      "8. Could the gyroscopic data alone accurately determine the number of stairs the user descended? If so, how?\n",
      "9. Considering the accelerometer data, what insights can you derive about the impact of each step taken by the user while descending stairs?\n",
      "10. How could additional sensor data, such as magnetometer readings, enhance the analysis of the user's stair descent activity beyond what the gyroscope and accelerometer data provide?\n",
      "[]\n",
      "8 missing:1. How can we determine the user's running speed based on the provided gyroscopic data?\n",
      "1. Calculate the magnitude of the angular velocities from the gyroscopic data.\n",
      "2. Convert the angular velocities to linear velocities using the formula: linear velocity = radius * angular velocity (where radius can be assumed based on typical human body dimensions).\n",
      "3. The running speed can be estimated based on the linear velocities calculated from the gyroscopic data.\n",
      "\n",
      "2. What insights can we gather about the user's direction changes during jogging from the accelerometer data?\n",
      "1. Analyze the acceleration values from the accelerometer data to identify sudden changes in acceleration.\n",
      "2. Look for patterns where the acceleration values switch between positive and negative along different axes.\n",
      "3. These changes in acceleration direction can indicate the user's turns or changes in direction during jogging.\n",
      "\n",
      "3. Can we determine the user's stride length during jogging using the provided sensor data?\n",
      "1. Calculate the acceleration magnitudes from the accelerometer data to determine the peak acceleration values during each step.\n",
      "2. Use the peak acceleration values to estimate the user's stride length based on biomechanical principles and known relationships between acceleration and stride length.\n",
      "\n",
      "4. How do the gyroscopic and accelerometer data complement each other in analyzing the jogging activity?\n",
      "1. The gyroscopic data provides information on the angular velocities and rotational movements of the user during jogging.\n",
      "2. The accelerometer data offers insights into the linear accelerations experienced by the user in different directions.\n",
      "3. By combining both datasets, we can get a comprehensive understanding of the user's movements, including changes in speed, direction, and rotational dynamics during jogging.\n",
      "\n",
      "5. Is it possible to identify specific phases of the jogging activity (such as acceleration, deceleration, and steady-state running) from the sensor data?\n",
      "1. Analyze the trends in acceleration values over time to distinguish periods of acceleration, deceleration, and steady-state running.\n",
      "2. Look for consistent patterns in both the gyroscopic and accelerometer data that correspond to these different phases of jogging.\n",
      "3. Variations in angular velocities and acceleration magnitudes can help differentiate between different phases of the activity.\n",
      "\n",
      "6. How could we estimate the incline or decline of the terrain where the user is jogging using the provided sensor data?\n",
      "1. Analyze the gravity component in the accelerometer data to determine the orientation of the device relative to the Earth's gravity.\n",
      "2. Changes in the orientation of the gravity vector can indicate incline or decline of the terrain.\n",
      "3. By examining the accelerometer data, particularly the gravity component, we can estimate the slope of the terrain where the jogging activity is taking place.\n",
      "\n",
      "7. Can we infer the user's running gait (such as stride frequency and foot strike pattern) from the IMU sensor data provided?\n",
      "1. Analyze the periodic patterns in the accelerometer data to estimate the user's stride frequency.\n",
      "2. Look for distinctive peaks and valleys in the acceleration values that correspond to each step taken during jogging.\n",
      "3. By examining the accelerometer data for rhythmic patterns, we may be able to infer the user's running gait, including foot strike patterns.\n",
      "\n",
      "8. How can the gyroscope data help in identifying any asymmetries in the user's running form during jogging?\n",
      "1. Analyze the gyroscope readings from both legs to compare the angular velocities and rotational dynamics.\n",
      "2. Look for differences in angular velocities or patterns of rotation between the left and right sides.\n",
      "3. Any significant discrepancies in the gyroscope data between the two sides may indicate asymmetries in the user's running form or gait.\n",
      "\n",
      "9. Is it possible to estimate the distance covered by the user during the jogging activity using the sensor data provided?\n",
      "1. Integrate the linear velocities calculated from the gyroscopic data over time to estimate the distance covered in each time interval.\n",
      "2. Summing up the distances covered in each interval can provide an estimation of the total distance traveled during the jogging activity.\n",
      "\n",
      "10. How can we differentiate between intentional changes in direction by the user and external factors (such as uneven terrain) affecting the jogging activity based on the sensor data?\n",
      "1. Analyze the consistency and smoothness of direction changes indicated by the gyroscopic data.\n",
      "2. Sudden, erratic changes in angular velocities may suggest external factors influencing the user's movements.\n",
      "3. Intentional changes in direction by the user are likely to exhibit more controlled and deliberate patterns in the gyroscopic data compared to those caused by external factors.\n",
      "[('Convert the angular velocities to linear velocities using the formula: linear velocity = radius * angular velocity (where radius can be assumed based on typical human body dimensions).', 'Calculate the magnitude of the angular velocities from the gyroscopic data.'), ('Calculate the acceleration magnitudes from the accelerometer data to determine the peak acceleration values during each step.', \"Can we determine the user's stride length during jogging using the provided sensor data?\")]\n",
      "Potential corner case\n",
      "Small answer dropping: \n"
     ]
    },
    {
     "name": "stderr",
     "output_type": "stream",
     "text": [
      "100%|███████████████████████████████████████| 13150/13150 [00:00<00:00, 15771.49it/s]"
     ]
    },
    {
     "name": "stdout",
     "output_type": "stream",
     "text": [
      "Small answer dropping: \n",
      "10 missing:1. Can you explain how the gyroscope data reflects the varying angular velocities during walking based on the provided readings?\n",
      "2. How do the accelerometer readings correspond to the steps taken during walking? Provide a detailed explanation considering the accelerometer data provided.\n",
      "3. What can the positive and negative values in the gyro data tell us about the different directions of movement during walking? How does this align with the gyroscope readings given?\n",
      "4. How do the peaks and troughs in the accelerometer data correlate with foot contacts and push-offs during the walking activity described?\n",
      "5. Based on the gyroscope spikes observed during walking, what insights can you derive about potential turning movements or irregular steps taken during the activity?\n",
      "6. Can you identify any patterns or anomalies in the gyroscope data that may indicate a specific phase within the walking gait cycle?\n",
      "7. How do the gyroscope readings in different axes interact to provide a comprehensive understanding of the user's movement patterns during walking?\n",
      "8. What can be inferred about the intensity or speed of the walking activity by analyzing both the gyroscope and accelerometer data together?\n",
      "9. How would you differentiate between a normal walking pattern and a brisk walking or running pattern based on the provided gyroscope and accelerometer sensor data?\n",
      "10. How might external factors such as terrain or footwear influence the gyroscope and accelerometer readings observed during the walking activity described?\n",
      "[]\n"
     ]
    },
    {
     "name": "stderr",
     "output_type": "stream",
     "text": [
      "\n"
     ]
    },
    {
     "data": {
      "text/plain": [
       "2380"
      ]
     },
     "execution_count": 147,
     "metadata": {},
     "output_type": "execute_result"
    }
   ],
   "source": [
    "all_qa_pair = []\n",
    "p = 0\n",
    "for sample in tqdm(samples):\n",
    "    qa_pairs, missing = one_example(sample)\n",
    "    assert missing>=0, f\"Extra: {qa_pairs} Missing: {missing}\"\n",
    "    if missing>5:\n",
    "        print(f\"{missing} missing:{json.loads(sample)['messages'][2]['content']}\")\n",
    "        print(qa_pairs)\n",
    "        if missing<10:\n",
    "            print(\"Potential corner case\")\n",
    "    else:\n",
    "        all_qa_pair.extend(qa_pairs)\n",
    "    p+=missing\n",
    "p"
   ]
  },
  {
   "cell_type": "code",
   "execution_count": 148,
   "id": "f34711e0-7a49-486c-88c1-6e05f625ec4d",
   "metadata": {},
   "outputs": [
    {
     "data": {
      "text/plain": [
       "129118"
      ]
     },
     "execution_count": 148,
     "metadata": {},
     "output_type": "execute_result"
    }
   ],
   "source": [
    "len(all_qa_pair)"
   ]
  },
  {
   "cell_type": "code",
   "execution_count": 149,
   "id": "71b32e06-738c-45af-8fad-3a5f0fe346b2",
   "metadata": {},
   "outputs": [
    {
     "data": {
      "text/plain": [
       "('How would the data interpretation differ if the user was descending stairs instead of ascending, based on the gyroscope and accelerometer readings?',\n",
       " 'In the case of descending stairs, the gyroscope data would show decreasing values in the y-axis, indicating downward movement, while the accelerometer data would demonstrate a decrease in z-axis values as the user descends, showcasing a different pattern compared to ascending stairs.')"
      ]
     },
     "execution_count": 149,
     "metadata": {},
     "output_type": "execute_result"
    }
   ],
   "source": [
    "all_qa_pair[1497]"
   ]
  },
  {
   "cell_type": "code",
   "execution_count": 150,
   "id": "23cf4a54-6a10-456d-8f8f-d936b52bada5",
   "metadata": {},
   "outputs": [],
   "source": [
    "with open(\"opensqa_10hz_13150-26288.jsonl\",\"r\") as f:\n",
    "    samples = f.readlines()\n",
    "f.close()"
   ]
  },
  {
   "cell_type": "code",
   "execution_count": 151,
   "id": "edcdefef-0174-4161-9908-fd89838b9826",
   "metadata": {},
   "outputs": [
    {
     "name": "stderr",
     "output_type": "stream",
     "text": [
      "  0%|                                                      | 0/13138 [00:00<?, ?it/s]"
     ]
    },
    {
     "name": "stderr",
     "output_type": "stream",
     "text": [
      " 25%|█████████▉                              | 3278/13138 [00:00<00:00, 16242.69it/s]"
     ]
    },
    {
     "name": "stdout",
     "output_type": "stream",
     "text": [
      "10 missing:1. Can you explain how the gyroscopic data provided aligns with the characteristic features of a walking gait analysis?\n",
      "2. How do the peaks and valleys in the gyroscopic data correlate with the changes in body orientation during walking?\n",
      "3. How can the alternating high and low values in the accelerometer data be associated with the user's steps during walking?\n",
      "4. Based on the combination of gyroscopic and accelerometer data, can you infer the phase of walking where the user experiences the most acceleration variations?\n",
      "5. Is it possible to determine the user's walking pace or speed solely by analyzing the provided gyroscopic data?\n",
      "6. How do the variations in acceleration captured by the accelerometer data correspond to the user's changes in pace or direction while walking?\n",
      "7. Considering the gyroscopic data's steady rhythm and the accelerometer data's consistent acceleration variations, can you identify any instances of abrupt movements or quick turns during the walking activity?\n",
      "8. What insights can be gathered from the gyroscopic data regarding the rotational movements of the user's body during walking?\n",
      "9. Can you determine from the accelerometer data if the user performed any abrupt stops or changes in direction during the walking activity?\n",
      "10. In what ways does the combination of gyroscopic and accelerometer data provide a holistic view of the user's walking pattern compared to analyzing each sensor data independently?\n",
      "[]\n",
      "10 missing:1. Based on the gyroscope data, can you deduce if the biker performed any somersaults or backflips during the biking session? Explain your reasoning.\n",
      "2. How can you determine from the accelerometer data if the biker was climbing uphill or downhill at any point during the biking activity?\n",
      "3. Is it possible to identify from the gyroscope data whether the biker made frequent sudden stops or pauses during the biking session? Justify your answer.\n",
      "4. Analyzing the accelerometer data, can you infer if the biker encountered any sudden obstacles or hurdles on the biking route that required immediate deceleration or acceleration?\n",
      "5. Based on the gyroscope readings, can you estimate the sharpness of the turns made by the biker during the biking activity? Provide a detailed explanation.\n",
      "6. How can you utilize both gyroscope and accelerometer data to differentiate between the biker riding on a smooth road versus a rough terrain with bumps and irregularities?\n",
      "7. From the gyroscope data, can you determine if the biker primarily traveled in a straight line for extended durations, or if there were frequent changes in direction such as weaving through obstacles or traffic? Justify your response.\n",
      "8. Is it possible to identify from the accelerometer data if the biker briefly lost balance or swerved off the intended path during the biking session? Explain how you would make this determination.\n",
      "9. Using the gyroscope data, can you estimate the frequency of pedal strokes per minute (cadence) of the biker during the biking session? Describe the methodology you would use to derive this information.\n",
      "10. How would you interpret the combination of sustained negative y-axis acceleration and fluctuating z-axis accelerations in the context of the biker's movements? What specific biking maneuvers or actions could these sensor patterns correspond to?\n",
      "[]\n",
      "10 missing:1. How can you differentiate between the gyroscope data and the accelerometer data in the provided sensor readings during the biking activity?\n",
      "2. What specific patterns in the gyroscope data can indicate fast turns during the biking activity?\n",
      "3. How do the spikes and drops in the accelerometer data correlate with the bumpy ride experienced by the biker during the activity?\n",
      "4. Can you identify any instances where both the gyroscope and accelerometer data show simultaneous significant changes, and what could these indicate about the biking activity?\n",
      "5. Based on the gyroscope data, can you determine the axes along which the biker experiences the most rotational speeds and direction changes during the activity?\n",
      "6. How do the gyroscope readings in the z-axis contribute to understanding the user's biking activity, especially during fast turns?\n",
      "7. Is there a correlation between the peaks in the accelerometer data and the sharp turns detected in the gyroscope data during the biking activity?\n",
      "8. Can the gyroscope data alone provide a comprehensive understanding of the type of terrain the user is biking on, or is the accelerometer data crucial for this analysis? Why?\n",
      "9. How do the subtle fluctuations in the gyroscope data contribute to the overall assessment of agility and maneuvering during the biking activity?\n",
      "10. By analyzing the accelerometer data, can you identify specific instances where the biker encounters obstacles or rough patches along the biking route, as indicated by the sensor readings?\n",
      "[]\n",
      "10 missing:1. Based on the gyroscope data and the sudden drops in accelerometer values, can we determine the number of stairs that the user descended? Explain the rationale behind your answer.\n",
      "   \n",
      "2. How can we differentiate between the gyroscope data that corresponds to the user adjusting balance and orientation and the data related to sudden drops in the accelerometer values during the descent? What specific patterns or characteristics in the sensor data help us make this distinction?\n",
      "\n",
      "3. Is it possible to identify the specific direction (e.g., forward, backward, left, right) in which the user was moving while descending the stairs based on the gyroscope and accelerometer data patterns? Provide a detailed explanation of how this can be inferred from the sensor readings.\n",
      "\n",
      "4. How do the gyroscope readings differ when the user is stepping onto a stair compared to when they are in the process of descending it? Can we pinpoint specific instances in the dataset where these transitions occur? \n",
      "\n",
      "5. By analyzing the gyroscope data in conjunction with the sudden drops in accelerometer values, can we estimate the speed at which the user was descending the stairs? What key factors or parameters would you consider in making this estimation?\n",
      "\n",
      "6. Are there any discernible patterns or anomalies in the gyroscope and accelerometer data that indicate moments of potential imbalance or instability during the descent? How can we identify and analyze such instances based on the sensor readings provided?\n",
      "\n",
      "7. Can we determine the total duration of time taken by the user to descend the stairs by examining the gyroscope and accelerometer data patterns? What characteristics or trends in the sensor readings would assist in calculating this duration accurately?\n",
      "\n",
      "8. How do the fluctuation patterns in the gyroscope data align with the sudden changes observed in the accelerometer readings during the user's descent down the stairs? What insights can be gained from analyzing the synchronization of these two types of sensor data?\n",
      "\n",
      "9. Based on the gyroscope and accelerometer data, can we identify specific stair-related activities such as landing after a step, pushing off from a step, or pausing between steps during the descent? What sensor data patterns would indicate these activities?\n",
      "\n",
      "10. Considering the combined gyroscope and accelerometer data, can we deduce whether the user was descending a straight staircase or a staircase with turns or landings? What features in the sensor data would suggest the layout of the stairway being descended by the user?\n",
      "[]\n",
      "Small answer dropping: Yes\n",
      "10 missing:1. Based on the given gyroscope data during the biking activity, can you identify any specific instances where the cyclist might have performed sharp turns or sudden adjustments? Explain how you reached this conclusion.\n",
      "2. How do the accelerometer readings support the narrative of encountering rough terrain or sudden movements during the biking activity? Provide examples from the data to illustrate your point.\n",
      "3. Is it possible to determine from the gyroscope data if the cyclist experienced any instances of loss of balance or swerving during the biking activity? Explain your reasoning using the provided sensor data.\n",
      "4. Can you identify any particular section in the accelerometer data that aligns with the narration of encountering bumps or jumps while biking? How does this section of data differ from regular biking motion patterns?\n",
      "5. How do the rapid changes in gyroscopic data correlate with the description of the cyclist making quick turns or adjustments during the biking activity? Provide a detailed analysis based on the fluctuations in the gyroscope readings.\n",
      "6. What can the consistent patterns in both gyroscope and accelerometer data reveal about the rhythmic nature of pedaling and steering during the biking activity? How do these patterns contribute to the overall understanding of the cyclist's movements?\n",
      "7. Considering the sudden spikes in acceleration data, can you infer if these correspond to the user accelerating or decelerating rapidly while biking? Support your answer with specific instances from the accelerometer readings.\n",
      "8. How do the gyroscope and accelerometer data collectively capture the physical exertion and agility required for biking, as mentioned in the narration? Highlight key aspects from both datasets that exemplify these physical demands.\n",
      "9. Are there any anomalies or irregularities in the provided IMU sensor data that deviate significantly from the expected patterns of biking activity? How might these anomalies impact the overall analysis of the cyclist's movements?\n",
      "10. Based on the overall trends observed in the gyroscope and accelerometer data, can you speculate on the level of expertise or experience of the cyclist in handling the bike during the recorded activity? Provide reasoning for your assessment using the sensor information provided.\n",
      "[]\n",
      "10 missing:1. Based on the gyroscope data showing varying angular velocities and the accelerometer data exhibiting intense changes in acceleration, can you determine the specific moments during the biking activity when the user may have performed sharp turns? How can the gyroscope and accelerometer readings help in identifying these turns?\n",
      "\n",
      "2. Can you analyze the relationship between the peaks in gyroscopic data and accelerometer data to distinguish between moments of high-intensity biking and regular biking? How do these peaks correspond to the user's activity levels during the biking session?\n",
      "\n",
      "3. Considering the negative z-axis gyro values followed by positive accelerations, can you infer the potential scenarios during the biking activity where the user might have experienced sudden downhill accelerations? How do the gyro and accelerometer readings align to support this inference?\n",
      "\n",
      "4. With the consistent negative y-axis accelerometer values indicating continuous downward movement, how can you identify the specific instances during the biking session when the user was likely descending a hill? What patterns in the accelerometer data support this deduction?\n",
      "\n",
      "5. The sharp peaks in the x-axis gyroscope data and corresponding spikes in the y-axis accelerometer data suggest quick and sudden maneuvers. How can you use these data patterns to pinpoint the exact moments when the user executed rapid transitions or maneuvers during the biking activity?\n",
      "\n",
      "6. How do the gyroscope and accelerometer readings collectively portray the overall energetic biking session described in the narration? What specific features in the sensor data support the characterization of vibrant biking movements and sharp turns?\n",
      "\n",
      "7. Can you explain how the gyroscope and accelerometer data would differ if the user were cycling on a straight road with minimal turns compared to an off-road trail with rough terrain and obstacles? What specific patterns in the sensor readings would help differentiate between these two biking scenarios?\n",
      "\n",
      "8. By analyzing the fluctuations in gyroscopic and accelerometer readings, can you determine the duration or frequency of the sharp turns performed by the user during the biking session? How do specific patterns in the sensor data signify the frequency of these maneuvers?\n",
      "\n",
      "9. How would the gyroscope and accelerometer data change if the user were to suddenly brake during the biking activity? What distinct patterns in the sensor readings would indicate abrupt deceleration or braking moments in the session?\n",
      "\n",
      "10. Considering the dynamics of the gyroscope and accelerometer data, can you speculate on the user's biking route or environment based on the observed sensor patterns? How do certain sensor data trends correlate with different biking terrains or scenarios such as urban streets, mountain trails, or recreational parks?\n",
      "[]\n",
      "Small answer dropping: The gy\n",
      "Small answer dropping: Uph\n"
     ]
    },
    {
     "name": "stderr",
     "output_type": "stream",
     "text": [
      " 62%|████████████████████████▊               | 8137/13138 [00:00<00:00, 16163.53it/s]"
     ]
    },
    {
     "name": "stdout",
     "output_type": "stream",
     "text": [
      "Small answer dropping: \n",
      "10 missing:1. Given the gyroscope readings, how do the values in each triplet (x, y, z) axis compare to each other during the sitting activity? What can be inferred from these comparisons?\n",
      "2. Can the accelerometer data help in determining the placement of the device on the body during the sitting activity? Explain your reasoning based on the sensor readings provided.\n",
      "3. How do the gyroscope readings indicate the stability of the sitting posture over time? Can you identify any patterns or trends in the gyroscope data that support this?\n",
      "4. Based on the accelerometer data, can you estimate the gravitational force acting on the sensor during the sitting event? How does this align with the expected gravitational force in a seated posture?\n",
      "5. Are there any specific characteristics in the gyroscope data that suggest occasional movements or shifts in the seated position? How do these movements manifest in the readings?\n",
      "6. In the accelerometer data, identify any irregularities or anomalies that might indicate sudden changes in the sitting posture. How do these deviations differ from the overall stationary pattern observed?\n",
      "7. Could the gyroscope readings provide insights into the direction of the user's body movements while sitting? How can you analyze the gyroscope data to determine the orientation changes during the activity?\n",
      "8. How do the gyroscope and accelerometer data together confirm the lack of significant physical activity during the sitting event? What specific sensor patterns support this conclusion?\n",
      "9. Can you identify any instances in the gyroscope data where the user may have made deliberate movements while maintaining the sitting posture? How do these instances stand out from the regular sensor readings?\n",
      "10. Given the seated position and the sensor data provided, can you propose a method to differentiate between different seated activities, such as sitting upright and leaning back, solely based on the IMU sensor information? Provide a detailed explanation of your approach.\n",
      "[]\n",
      "Small answer dropping: \n",
      "Small answer dropping: \n",
      "9 missing:1. Based on the gyroscope data provided during the descent of stairs, can you explain the significance of the negative values on the y-axis and how they correlate with the individual's movement?\n",
      "   - The negative values on the y-axis of the gyroscope data suggest a forward rotation. How does this forward rotation align with the act of descending stairs captured in the sensor data?\n",
      "\n",
      "2. How does the accelerometer data indicate the initial steps of descending stairs, especially considering the tilt forward observed in the readings? How does this align with the physical motion of descending stairs?\n",
      "\n",
      "3. Can you elaborate on how the fluctuation in the z-axis of the accelerometer data corresponds to the change in elevation experienced by the individual while descending the stairs? How do these fluctuations indicate the vertical movement?\n",
      "\n",
      "4. What can be deduced from the patterns of sudden spikes in acceleration captured in the accelerometer data during the descent of stairs? How do these spikes relate to the person's movement during the activity?\n",
      "\n",
      "5. Considering the gyroscope and accelerometer data collectively, how does the variation in the sensor readings provide insights into the continuous movement involved in navigating down the stairs? How do these variations reflect the dynamic nature of the activity?\n",
      "\n",
      "6. How does the combination of gyroscope and accelerometer data enhance the understanding of the individual's activity of descending stairs? What unique aspects of the movement are revealed when analyzing both sensor readings together?\n",
      "\n",
      "7. Are there any specific patterns in the gyroscope data that indicate specific movements or adjustments made by the individual while descending stairs? How do these patterns contribute to the overall understanding of the activity?\n",
      "\n",
      "8. Can you analyze the accelerometer data to identify instances where the individual may have paused or changed their speed while descending the stairs? How do these variations in acceleration add detail to the narrative of the activity?\n",
      "\n",
      "9. How do the gyroscope readings reflect the rotational movements involved in descending stairs, especially when considering the variations in the x, y, and z axes? How do these rotations contribute to the overall understanding of the physical actions performed during the descent?\n",
      "\n",
      "10. In what ways can the gyroscope and accelerometer data be used to distinguish between different activities that may involve similar movements, such as descending stairs and walking on a flat surface? How do specific sensor patterns differentiate between these activities based on the given data?\n",
      "[('How does the accelerometer data indicate the initial steps of descending stairs, especially considering the tilt forward observed in the readings? How does this align with the physical motion of descending stairs?', 'The negative values on the y-axis of the gyroscope data suggest a forward rotation. How does this forward rotation align with the act of descending stairs captured in the sensor data?')]\n",
      "Potential corner case\n",
      "10 missing:1. Based on the provided gyroscope and accelerometer data for walking, how can you differentiate between the gyroscope and accelerometer data in terms of their respective roles in capturing the user's movement?\n",
      "2. With reference to the gyroscope data showing consistent variations in all axes during walking, how does this information align with the user's walking pattern and the regular movements mentioned in the features?\n",
      "3. Considering that peaks and troughs in the gyroscope data coincide with changes in direction or turns during walking, how can you relate this information to the user's movement trajectory during the activity?\n",
      "4. How do the fluctuations in all axes of the accelerometer data align with the changes in acceleration experienced by the user while walking? Can you explain the significance of these fluctuations in the context of walking?\n",
      "5. Given the relationship between lower gyroscope values and corresponding accelerometer trends, how can you deduce the specific influence of steps taken by the user on both types of sensor data during the walking activity?\n",
      "6. Considering the rhythmic patterns observed in both the gyroscope and accelerometer data during walking, how do these patterns contribute to confirming the characteristic gait of the user? Can you elaborate on the significance of these rhythmic patterns?\n",
      "7. How can you use the gyroscope data to determine the pace or speed at which the user is walking based on the variations observed in the sensor readings?\n",
      "8. In what ways do the gyroscope and accelerometer data complement each other in providing a comprehensive understanding of the user's walking activity? Can you identify any specific instances where one sensor's data may enhance the interpretation of the other?\n",
      "9. How would you analyze the correlation between the gyroscope data indicating movement variations and the corresponding accelerometer data reflecting changes in acceleration to assess the user's walking performance or behavior?\n",
      "10. Based on the provided sensor data and features of walking, how might you differentiate between walking on a level surface versus walking on an incline or decline by examining the patterns and trends in the gyroscope and accelerometer readings?\n",
      "[]\n",
      "Small answer dropping: To\n",
      "Small answer dropping: The\n",
      "10 missing:1. Can you explain how the gyroscope data aligns with the characteristic features of walking motion mentioned in the summary?\n",
      "2. How do the varying acceleration levels in the accelerometer data correlate with the peaks and troughs in the gyroscope data during the walking activity?\n",
      "3. Based on the gyroscope readings, can you infer if there were any sharp turns or changes in direction while walking? If so, how?\n",
      "4. How can you determine the frequency of steps taken during the walking activity by analyzing the provided gyroscope and accelerometer data?\n",
      "5. What do the sudden spikes in the accelerometer data indicate in terms of the user's movement during walking?\n",
      "6. Is it possible to estimate the speed of the walking activity by examining the patterns in the accelerometer data? If yes, explain how.\n",
      "7. Can you identify any instances of the user standing still or pausing briefly during the walking activity by analyzing the gyroscope data? If so, how?\n",
      "8. How do the gyroscope values align with the statement about foot transitions in the summary provided by the user?\n",
      "9. Considering the features of varied acceleration levels during walking, how do the accelerometer data points correspond to changes in the user's speed or gait rhythm?\n",
      "10. Based on the narration provided, can you determine if the walking activity involved any irregularities or deviations from a typical walking pattern by analyzing both gyroscope and accelerometer data together?\n",
      "[]\n",
      "10 missing:1. Based on the provided data and features, what can be inferred about the user's activity level during the recorded time frame?\n",
      "2. How do the gyroscope readings align with the user's minimal movement as indicated in the narration?\n",
      "3. Can the accelerometer data alone confirm that the user is in a seated position? Explain.\n",
      "4. Is there any indication in the gyroscope data that suggests the user is changing their sitting posture during the recording?\n",
      "5. How do the gyroscope readings differ when a person is seated and engaged in physical activity compared to a person who is seated but inactive?\n",
      "6. Which specific aspects of the gyroscope data support the conclusion of the user maintaining a stable sitting posture?\n",
      "7. Could the accelerometer readings potentially capture small movements like typing on a keyboard while sitting? Justify your answer.\n",
      "8. How do the gyroscope and accelerometer data together provide a comprehensive picture of the user's activity, considering their sedentary behavior and minimal body movement?\n",
      "9. Could sudden movements like reaching for an object or stretching be detected based on the given sensor data? Explain the limitations.\n",
      "10. What additional sensor data or metrics could enhance the analysis of the user's behavior while sitting, beyond gyroscope and accelerometer readings?\n",
      "[]\n"
     ]
    },
    {
     "name": "stderr",
     "output_type": "stream",
     "text": [
      " 86%|█████████████████████████████████▋     | 11363/13138 [00:00<00:00, 15922.33it/s]"
     ]
    },
    {
     "name": "stdout",
     "output_type": "stream",
     "text": [
      "10 missing:1. Based on the gyroscope data indicating rapid changes in all axes and the accelerometer data showing varying acceleration levels, what can we infer about the intensity of the biking activity?\n",
      "2. How do the high negative y-axis values in the accelerometer data correlate with the gyroscope readings suggesting sharp turns during the biking session?\n",
      "3. Can you explain how the peaks in the gyroscope z-axis readings aligning with spikes in accelerometer values indicate strong correlations between rapid turns and changes in acceleration during the biking activity?\n",
      "4. Considering the gyroscope data showing dynamic movement and the accelerometer data revealing different terrains, how do these findings support the user's description of intense biking with sharp turns?\n",
      "5. How do the gyroscope readings of the sharp maneuvers during biking relate to the accelerometer data showing peaks in acceleration levels?\n",
      "6. In the context of intense biking with sharp maneuvers, how do the gyroscope and accelerometer data together provide insights into the challenging terrain encountered during the activity?\n",
      "7. Based on the gyroscope data showing rapid changes in all axes, can we determine the frequency of sharp turns made during the biking session?\n",
      "8. How do the trends in acceleration levels captured by the accelerometer data provide information about the types of obstacles or terrains the cyclist might have encountered during the intense biking activity?\n",
      "9. Considering the intense biking session described, how do the specific values in the gyroscope and accelerometer data help in understanding the cyclist's movements during sharp turns?\n",
      "10. Could you explain how the gyroscope and accelerometer data together can be used to distinguish between uphill, downhill, and straight path segments during the biking session characterized by intense activity and sharp maneuvers?\n",
      "[]\n",
      "Small answer dropping: \n",
      "Small answer dropping: It is\n",
      "10 missing:1. What does the variation in angular velocities along all axes in the gyroscope data indicate during the walking activity?\n",
      "2. How can the accelerometer data fluctuations be linked to the movement pattern seen in the gyroscope data during walking?\n",
      "3. How do the sharp changes in the gyroscope data align with the turns or changes in direction mentioned in the narration during the walking session?\n",
      "4. How can the high accelerometer values at certain points be connected to the possible impact or movement events observed while walking?\n",
      "5. In what way do the consistent patterns observed in both gyroscope and accelerometer data reflect the steady walking pace mentioned in the narration?\n",
      "6. How could the peaks in the accelerometer data be indicative of specific events like heel strikes or foot contact with the ground while walking?\n",
      "7. What specific features in the gyroscope and accelerometer data might differentiate walking from other activities based on the given sensor readings and features mentioned?\n",
      "8. How could analyzing the correlation between gyroscope and accelerometer data provide insights into the posture and balance of the individual while walking?\n",
      "9. Can the frequency and amplitude of peaks in the accelerometer data help in distinguishing between different types of terrain or ground surfaces encountered during the walking activity?\n",
      "10. Considering the overall sensor data alignment with typical walking patterns, how could additional sensor readings or data processing techniques further enhance the analysis of walking gait and movement characteristics?\n",
      "[]\n",
      "10 missing:1. Based on the provided sensor data and features observed, why is it concluded that the user is in a seated position?\n",
      "2. How do the gyroscopic readings support the inference of minimal movement by the user?\n",
      "3. Can you explain how the accelerometer data aligns with the user being in a stationary position?\n",
      "4. What specific characteristics in the gyroscopic data suggest that the user is sitting calmly rather than performing any active movements?\n",
      "5. How do the accelerometer values validate the conclusion that the user is seated and not engaged in any physical activity?\n",
      "6. Considering the gyroscopic data provided, which axis readings contribute to the indication of a seated posture, and why?\n",
      "7. What can be deduced from the consistency in accelerometer readings along the Y-axis in the context of the user's activity?\n",
      "8. How do the gyroscopic values on the Z-axis support the narrative of the user being in a sedentary state?\n",
      "9. In the context of seated posture, how do the accelerometer values differ when compared to scenarios involving active movements or transitions?\n",
      "10. Is there any specific pattern or range in the sensor data that would suggest the user is not completely still while sitting?\n",
      "[]\n",
      "10 missing:1. Based on the gyroscope data showing rotations and changes in orientation, can we deduce if the user is predominantly ascending or descending the stairs? Explain your reasoning.\n",
      "2. How do the accelerometer data patterns reflect the forceful movements of the user while climbing stairs? Can we identify specific instances of push-off actions from the data provided?\n",
      "3. Can we pinpoint from the gyroscope data when the user is likely adjusting to the stairs' incline versus when they are in the midst of the climb? What specific gyroscopic patterns support this differentiation?\n",
      "4. Considering the gyroscope data's fluctuations in all axes to maintain balance, can we determine if the user is taking single steps or executing larger movements like skipping steps while climbing? Justify your answer with relevant sensor information.\n",
      "5. How do the gyroscope and accelerometer data together confirm the complexity of the stair-climbing activity? Provide examples of sensor readings that showcase the intricate motion patterns involved.\n",
      "6. Are there any instances in the gyroscope data where we can infer a change in the user's gait or movement strategy during the stair climb? How does this align with the narrative of climbing stairs?\n",
      "7. By examining the accelerometer data, can we determine if the user is consistently climbing stairs of the same height, or does the variation in intensity suggest differing step heights? Support your answer using the provided sensor information.\n",
      "8. How does the gyroscope data indicate the user's body orientation changes with respect to the stairs during the climb? Are there specific rotation patterns that demonstrate adjustments for ascending the steps?\n",
      "9. Can we identify from the accelerometer data if there are specific points during the stair climb where the user exerts more force or encounters more resistance while ascending? Use the data to explain any significant variations in movement intensity.\n",
      "10. Considering the narrated complex rotations and forceful movements during stair climbing, how do the gyroscope and accelerometer readings reflect the user's effort to maintain balance and coordination throughout the activity? Provide examples of sensor data that support this analysis.\n",
      "[]\n",
      "Small answer dropping: Yes, the\n",
      "10 missing:1. Based on the gyroscope data provided, how can we determine if there is any rotational motion occurring during the standing activity?\n",
      "2. How do the accelerometer readings support the conclusion that the individual is maintaining a stationary position during the standing activity?\n",
      "3. Can the gyroscope data alone differentiate between static standing and walking slowly? Explain your reasoning.\n",
      "4. What specific characteristics in the gyroscope and accelerometer data indicate that the user is making subtle movements to maintain balance while standing?\n",
      "5. Is it possible to identify if the user shifts their weight from one foot to another based on the provided gyroscope and accelerometer data? If so, how can this be determined?\n",
      "6. How do the features of minimal movements and static standing activity correlate with the consistent sensor readings observed in both the gyroscope and accelerometer data?\n",
      "7. What do the occasional small peaks in the accelerometer values suggest about the user's posture during the static standing activity?\n",
      "8. Could the user be performing any upper body movements while maintaining a static standing position, based on the given sensor data? Justify your answer.\n",
      "9. How might the sensor data differ if the user were standing on a moving platform (e.g., elevator) instead of on a stable surface? Highlight the key differences in the data that would indicate this change.\n",
      "10. Considering the overall sensor data patterns and the narration provided, how would you differentiate between standing still and standing with intentional sway or rocking movements? What specific sensor data characteristics would you look for to make this distinction?\n",
      "[]\n",
      "10 missing:1. How do the gyroscope readings support the notion that the user is sitting despite showing minor fluctuations?\n",
      "2. What specific patterns in the accelerometer data indicate that the user is stationary during this activity?\n",
      "3. Could the slight variations in the gyroscope readings be attributed to anything other than micro-adjustments in posture while sitting? If so, what could be another possible explanation?\n",
      "4. How do the gyroscopic and accelerometer readings collectively suggest that the user is not engaged in any vigorous physical activity while sitting?\n",
      "5. Is it possible to determine from the provided sensor data whether the user is sitting on a stable surface or a surface that is in motion? Explain your answer. \n",
      "6. How would the sensor data differ if the user was sitting on a vibrating chair rather than on a stationary surface? Can you identify any specific sensor readings that would indicate the presence of vibrations?\n",
      "7. Considering the consistency of accelerometer readings, is it possible to estimate the angle of inclination of the surface on which the user is sitting? If yes, how could this be calculated using the provided data?\n",
      "8. What role do gravity and Earth's rotation play in the sensor data collected during a stationary sitting activity? How are these factors reflected in the gyroscope and accelerometer readings?\n",
      "9. Can you identify any potential limitations or challenges in accurately interpreting the user's activity based solely on the provided gyroscope and accelerometer data? How might additional sensor data help overcome these limitations?\n",
      "10. If the user were to suddenly stand up from the sitting position, how would you expect the sensor data trend to change in both the gyroscope and accelerometer readings? Provide reasoning for your explanation based on the characteristics of the sensors and the nature of the activity data.\n",
      "[]\n"
     ]
    },
    {
     "name": "stderr",
     "output_type": "stream",
     "text": [
      "100%|███████████████████████████████████████| 13138/13138 [00:00<00:00, 15968.80it/s]"
     ]
    },
    {
     "name": "stdout",
     "output_type": "stream",
     "text": [
      "Small answer dropping: \n"
     ]
    },
    {
     "name": "stderr",
     "output_type": "stream",
     "text": [
      "\n"
     ]
    },
    {
     "data": {
      "text/plain": [
       "3120"
      ]
     },
     "execution_count": 151,
     "metadata": {},
     "output_type": "execute_result"
    }
   ],
   "source": [
    "all_qa_pair = []\n",
    "p = 0\n",
    "for sample in tqdm(samples):\n",
    "    qa_pairs, missing = one_example(sample)\n",
    "    assert missing>=0, f\"Extra: {qa_pairs} Missing: {missing}\"\n",
    "    if missing>5:\n",
    "        print(f\"{missing} missing:{json.loads(sample)['messages'][2]['content']}\")\n",
    "        print(qa_pairs)\n",
    "        if missing<10:\n",
    "            print(\"Potential corner case\")\n",
    "    all_qa_pair+=qa_pairs\n",
    "    p+=missing\n",
    "p"
   ]
  },
  {
   "cell_type": "code",
   "execution_count": 152,
   "id": "fbd91eb3-be20-4d1e-a095-e8fd30f1e4f2",
   "metadata": {},
   "outputs": [
    {
     "data": {
      "text/plain": [
       "('How can the accelerometer data be analyzed to detect any irregularities or anomalies in the walking pattern?',\n",
       " 'The gyroscope data, specifically along the y-axis, captures the rotational movements of the arms during walking. Consistent shifts in angular velocity along the y-axis correspond to the swinging motion of the arms, providing insight into the overall gait pattern.')"
      ]
     },
     "execution_count": 152,
     "metadata": {},
     "output_type": "execute_result"
    }
   ],
   "source": [
    "all_qa_pair[6497]"
   ]
  },
  {
   "cell_type": "code",
   "execution_count": 153,
   "id": "9d668088",
   "metadata": {},
   "outputs": [
    {
     "data": {
      "text/plain": [
       "128260"
      ]
     },
     "execution_count": 153,
     "metadata": {},
     "output_type": "execute_result"
    }
   ],
   "source": [
    "len(all_qa_pair)"
   ]
  }
 ],
 "metadata": {
  "kernelspec": {
   "display_name": "Python 3 (ipykernel)",
   "language": "python",
   "name": "python3"
  },
  "language_info": {
   "codemirror_mode": {
    "name": "ipython",
    "version": 3
   },
   "file_extension": ".py",
   "mimetype": "text/x-python",
   "name": "python",
   "nbconvert_exporter": "python",
   "pygments_lexer": "ipython3",
   "version": "3.8.10"
  }
 },
 "nbformat": 4,
 "nbformat_minor": 5
}
