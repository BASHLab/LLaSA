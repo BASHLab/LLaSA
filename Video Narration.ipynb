{
 "cells": [
  {
   "cell_type": "code",
   "execution_count": 1,
   "id": "d27da3c9-170a-4c88-bd03-187b11405742",
   "metadata": {},
   "outputs": [],
   "source": [
    "from IPython.display import display, Image, Audio\n",
    "\n",
    "import cv2  # We're using OpenCV to read video, to install !pip install opencv-python\n",
    "import base64\n",
    "import time\n",
    "from openai import OpenAI\n",
    "import os\n",
    "import requests\n",
    "\n",
    "\n",
    "os.environ[\"OPENCV_FFMPEG_READ_ATTEMPTS\"]=str(4096*4)\n",
    "\n",
    "client = OpenAI()"
   ]
  },
  {
   "cell_type": "code",
   "execution_count": 16,
   "id": "48570f1f-0d1d-4180-84a2-6930619197c5",
   "metadata": {},
   "outputs": [],
   "source": []
  },
  {
   "cell_type": "code",
   "execution_count": 5,
   "id": "7ff6f9c4-69ab-475b-9dce-4fd148f9b4ff",
   "metadata": {},
   "outputs": [],
   "source": [
    "frames = sorted(os.listdir(\"../EK-Data/P01/rgb_frames/P01_102/\"))"
   ]
  },
  {
   "cell_type": "code",
   "execution_count": 35,
   "id": "a92191e0-5014-47e6-9930-8f5ffa27e003",
   "metadata": {},
   "outputs": [
    {
     "name": "stderr",
     "output_type": "stream",
     "text": [
      "100%|████████████████████████████████████████████| 9/9 [00:00<00:00, 343.17it/s]\n"
     ]
    }
   ],
   "source": [
    "from tqdm import tqdm\n",
    "\n",
    "\n",
    "base64_frames=[]\n",
    "for frame in tqdm(frames[26:111][::10]):\n",
    "    buffer = cv2.imread(os.path.join(\"../EK-Data/P01/rgb_frames/P01_102/\",frame))\n",
    "    _, buffer = cv2.imencode(\".jpg\", buffer)\n",
    "    base64_frames.append(base64.b64encode(buffer).decode(\"utf-8\"))\n",
    "    "
   ]
  },
  {
   "cell_type": "code",
   "execution_count": 36,
   "id": "00141123-77bd-4d9e-ac95-63cd2157156d",
   "metadata": {},
   "outputs": [
    {
     "data": {
      "image/jpeg": "[encoded data removed]",
      "text/plain": [
       "<IPython.core.display.Image object>"
      ]
     },
     "metadata": {},
     "output_type": "display_data"
    }
   ],
   "source": [
    "display_handle = display(None, display_id=True)\n",
    "for img in base64_frames:\n",
    "    display_handle.update(Image(data=base64.b64decode(img.encode(\"utf-8\"))))\n",
    "    time.sleep(0.35)"
   ]
  },
  {
   "cell_type": "code",
   "execution_count": 34,
   "id": "925d9cfc-0359-4f2c-adb8-7832fea25a2a",
   "metadata": {},
   "outputs": [
    {
     "name": "stdout",
     "output_type": "stream",
     "text": [
      "In this sequence, the person is preparing a meal and organizing a dining setting. They start by carefully placing a piece of food (possibly cheese) onto a plate. The sequence shows the individual repeatedly adjusting the knife and the food on the plate, ensuring everything is neatly arranged. The setting includes a colorful striped place mat on a wooden table, contributing to a casual and homely dining atmosphere. The glasses of water on the table also suggest the meal is intended for more than one person or for ensuring hydration\n"
     ]
    }
   ],
   "source": [
    "# This is the intended use case\n",
    "\n",
    "\n",
    "PROMPT_MESSAGES = [\n",
    "    {\n",
    "        \"role\": \"system\",\n",
    "        \"content\": (\n",
    "            \"You are given the frames of an egocentric video in a home environment setting.\"\n",
    "            \"The user also provides a brief summary of what could be happening. \"\n",
    "            \"Narrate the video with details.\"\n",
    "        )\n",
    "    },\n",
    "    {\n",
    "        \"role\": \"user\",\n",
    "        \"content\": [\n",
    "            (\n",
    "                \"take knife and plate\"\n",
    "            ),\n",
    "            *map(lambda x: {\"image\": x, \"resize\": 768}, base64_frames),\n",
    "        ],\n",
    "    },\n",
    "]\n",
    "params = {\n",
    "    \"model\": \"gpt-4-turbo\",\n",
    "    \"messages\": PROMPT_MESSAGES,\n",
    "    \"max_tokens\": 100,\n",
    "}\n",
    "\n",
    "result = client.chat.completions.create(**params)\n",
    "print(result.choices[0].message.content)"
   ]
  },
  {
   "cell_type": "code",
   "execution_count": 37,
   "id": "523affcf-5cbf-46c5-91e6-6459e7fa9a92",
   "metadata": {},
   "outputs": [
    {
     "name": "stdout",
     "output_type": "stream",
     "text": [
      "In this sequence of images, we're observing someone from a first-person perspective as they're eating a meal. The scene takes place at a wooden table covered with a colorful striped placemat. The diner has a white plate with a blue rim in front of them, with what appears to be scrambled eggs on it. They're holding a fork in their right hand and using it to interact with the food.\n",
      "\n",
      "1. The first image shows the fork being brought towards the scrambled eggs.\n",
      "2. The second image displays the fork piercing into the scrambled eggs.\n",
      "3. In the third image, the fork has secured a portion of the eggs.\n",
      "4. The fourth image captures the fork lifting some of the scrambled eggs off the plate.\n",
      "5. In the fifth image, the fork with the eggs is being held steady, possibly as the person prepares to eat.\n",
      "6. The sixth image depicts the fork being slightly turned or adjusted, still holding the scrambled eggs.\n",
      "7. The seventh image shows the fork being moved closer to the diner's mouth, suggesting they're about to eat the eggs.\n",
      "8. In the eighth image, the fork has been withdrawn slightly, indicating a pause in the action or a momentary hesitation.\n",
      "9. The ninth image portrays the fork being moved forward again, continuing the motion towards the mouth.\n",
      "10. In the final image, the fork is again seen moving closer to the eater, with part of the scrambled eggs still on it, continuing the action of bringing the food to their mouth.\n",
      "\n",
      "Overall, the images suggest a simple, routine act of someone enjoying a meal, visualized from the perspective of the person eating.\n"
     ]
    }
   ],
   "source": [
    "PROMPT_MESSAGES = [\n",
    "    {\n",
    "        \"role\": \"user\",\n",
    "        \"content\": [\n",
    "            (\n",
    "                \"These are the frames of a video captured from a headmounted camera. It has a low frame rate. \"\n",
    "                \"Please generate a narration describing what is happening.\"\n",
    "            ),\n",
    "            *map(lambda x: {\"image\": x, \"resize\": 768}, base64_frames),\n",
    "        ],\n",
    "    },\n",
    "]\n",
    "params = {\n",
    "    \"model\": \"gpt-4-vision-preview\",\n",
    "    \"messages\": PROMPT_MESSAGES,\n",
    "    # \"max_tokens\": 200,\n",
    "}\n",
    "\n",
    "result = client.chat.completions.create(**params)\n",
    "print(result.choices[0].message.content)"
   ]
  },
  {
   "cell_type": "code",
   "execution_count": 28,
   "id": "b188366e-4d11-4279-97ea-8e5bc8797f72",
   "metadata": {},
   "outputs": [
    {
     "name": "stdout",
     "output_type": "stream",
     "text": [
      "The person in the video is having a meal at a dining table, using a fork to eat what appears to be a slice of quiche or a similar dish. The plate is resting on a colorful striped placemat, and there's an empty glass to the right with two more glasses and a smartphone lying in the background. Over the course of the meal, the individual cuts into and consumes the food, taking several bites. The environment suggests a casual, home setting and a relaxed, unhurried\n"
     ]
    }
   ],
   "source": [
    "PROMPT_MESSAGES = [\n",
    "    {\n",
    "        \"role\": \"user\",\n",
    "        \"content\": [\n",
    "            (\n",
    "                \"These are the frames of a POV video captured from a headmounted camera. \"\n",
    "                \"Generate a narration describing what is happening. \"\n",
    "                \"Don't refer to the images individually. Don't repeat the information included in this instruction.\"\n",
    "            ),\n",
    "            *map(lambda x: {\"image\": x, \"resize\": 768}, base64_frames),\n",
    "        ],\n",
    "    },\n",
    "]\n",
    "params = {\n",
    "    \"model\": \"gpt-4-vision-preview\",\n",
    "    \"messages\": PROMPT_MESSAGES,\n",
    "    \"max_tokens\": 100,\n",
    "}\n",
    "\n",
    "result = client.chat.completions.create(**params)\n",
    "print(result.choices[0].message.content)"
   ]
  },
  {
   "cell_type": "code",
   "execution_count": 20,
   "id": "1763b99d-f2e1-483d-ae09-0e42f6c2b70d",
   "metadata": {},
   "outputs": [
    {
     "name": "stdout",
     "output_type": "stream",
     "text": [
      "In the sequence of images, we see a first-person perspective of someone eating a meal, which appears to be an omelette on a plate. The person is seated at a wooden table with a colorful striped placemat. The diner has a fork\n"
     ]
    }
   ],
   "source": [
    "PROMPT_MESSAGES = [\n",
    "    {\n",
    "        \"role\": \"user\",\n",
    "        \"content\": [\n",
    "            (\n",
    "                \"These are the frames of a video captured from a headmounted camera. It has a low frame rate. \"\n",
    "                \"Please generate a narration describing what is happening.\"\n",
    "            ),\n",
    "            *map(lambda x: {\"image\": x, \"resize\": 768}, base64_frames),\n",
    "        ],\n",
    "    },\n",
    "]\n",
    "params = {\n",
    "    \"model\": \"gpt-4-vision-preview\",\n",
    "    \"messages\": PROMPT_MESSAGES,\n",
    "    \"max_tokens\": 50,\n",
    "}\n",
    "\n",
    "result = client.chat.completions.create(**params)\n",
    "print(result.choices[0].message.content)"
   ]
  },
  {
   "cell_type": "code",
   "execution_count": null,
   "id": "f3d697e6-e0eb-43ce-b84a-62b51bfe17fc",
   "metadata": {},
   "outputs": [],
   "source": []
  }
 ],
 "metadata": {
  "kernelspec": {
   "display_name": "Python 3 (ipykernel)",
   "language": "python",
   "name": "python3"
  },
  "language_info": {
   "codemirror_mode": {
    "name": "ipython",
    "version": 3
   },
   "file_extension": ".py",
   "mimetype": "text/x-python",
   "name": "python",
   "nbconvert_exporter": "python",
   "pygments_lexer": "ipython3",
   "version": "3.8.10"
  }
 },
 "nbformat": 4,
 "nbformat_minor": 5
}
