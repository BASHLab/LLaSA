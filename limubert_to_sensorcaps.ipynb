{
 "cells": [
  {
   "cell_type": "code",
   "execution_count": 1,
   "metadata": {},
   "outputs": [],
   "source": [
    "import os\n",
    "import json\n",
    "import numpy as np\n",
    "from tqdm import tqdm"
   ]
  },
  {
   "cell_type": "code",
   "execution_count": 8,
   "metadata": {},
   "outputs": [],
   "source": [
    "def sensor_subsampled_string(data, n=20):\n",
    "    if len(data)/n>10:\n",
    "        print(f\"High compression: {len(data)/n}\")\n",
    "    indices = np.round(np.linspace(0, len(data) - 1, n)).astype(int)\n",
    "    return str([data[idx] for idx in indices])"
   ]
  },
  {
   "cell_type": "code",
   "execution_count": 10,
   "metadata": {},
   "outputs": [],
   "source": [
    "from openai import OpenAI\n",
    "import json\n",
    "\n",
    "\n",
    "client = OpenAI()\n",
    "\n",
    "\n",
    "def limubert_sample_to_sensorcaps(summary, accl_str, gyro_str):\n",
    "    messages = [\n",
    "        {\n",
    "            \"role\": \"system\",\n",
    "            \"content\": (\n",
    "                \"Please consider yourself to be an expert on gyroscope and accelerometer sensor \"\n",
    "                \"information given as a metadata of IMU datasets.\"\n",
    "                \"You are given the IMU sensor readings of a human activity. \"\n",
    "                \"The user also provides a brief summary of the event followed by 'Summary:'. \"\n",
    "                \"They also give you gyroscopic and accelerometer sensor data followed by \"\n",
    "                \"'Gyroscope:' and 'Accelerometer:' respectively. \"\n",
    "                \"They are written in a Python list of lists format and contain x, y, and z \"\n",
    "                \"axis data respectively. \"\n",
    "                \"You should provide a comprehensive details of what the characteristic IMU \"\n",
    "                \"features for that event would be within 10 words, followed by 'Features:'.\"\n",
    "                \"Then, narrate the temporal event with details that are context-aware \"\n",
    "                \"based on the sensor data, followed by 'Narration:'.\"\n",
    "            )\n",
    "        },\n",
    "        {\n",
    "            \"role\": \"user\",\n",
    "            \"content\": (\n",
    "                f\"Summary: {summary}, \"\n",
    "                f\"Gyroscope: {gyro_str} \"\n",
    "                f\"Accelerometer: {accl_str}\"\n",
    "            ),\n",
    "        },\n",
    "    ]\n",
    "    params = {\n",
    "        \"model\": \"gpt-3.5-turbo\",\n",
    "        \"messages\": messages,\n",
    "        \"max_tokens\": 200,\n",
    "    }\n",
    "\n",
    "    result = client.chat.completions.create(**params)\n",
    "    narration = result.choices[0].message.content\n",
    "    messages.append({\"role\": \"assistant\", \"content\": narration})\n",
    "    sensorcaps_sample = json.dumps({\"messages\": messages})\n",
    "    return sensorcaps_sample"
   ]
  },
  {
   "cell_type": "code",
   "execution_count": 11,
   "metadata": {},
   "outputs": [
    {
     "name": "stdout",
     "output_type": "stream",
     "text": [
      "hhar\n"
     ]
    },
    {
     "name": "stderr",
     "output_type": "stream",
     "text": [
      "  0%|                                                                                    | 0/9166 [00:00<?, ?it/s]"
     ]
    },
    {
     "name": "stderr",
     "output_type": "stream",
     "text": [
      "  0%|                                                                                    | 0/9166 [00:01<?, ?it/s]\n"
     ]
    },
    {
     "ename": "TypeError",
     "evalue": "Object of type ChatCompletion is not JSON serializable",
     "output_type": "error",
     "traceback": [
      "\u001b[0;31m---------------------------------------------------------------------------\u001b[0m",
      "\u001b[0;31mTypeError\u001b[0m                                 Traceback (most recent call last)",
      "Cell \u001b[0;32mIn[11], line 30\u001b[0m\n\u001b[1;32m     28\u001b[0m accl_str \u001b[39m=\u001b[39m sensor_subsampled_string(accl)\n\u001b[1;32m     29\u001b[0m gyro_str \u001b[39m=\u001b[39m sensor_subsampled_string(gyro)\n\u001b[0;32m---> 30\u001b[0m sensorcaps_sample \u001b[39m=\u001b[39m limubert_sample_to_sensorcaps(\n\u001b[1;32m     31\u001b[0m     summary\u001b[39m=\u001b[39;49msample_label,\n\u001b[1;32m     32\u001b[0m     accl_str\u001b[39m=\u001b[39;49maccl_str,\n\u001b[1;32m     33\u001b[0m     gyro_str\u001b[39m=\u001b[39;49mgyro_str\n\u001b[1;32m     34\u001b[0m )\n\u001b[1;32m     35\u001b[0m f\u001b[39m.\u001b[39mwrite(sensorcaps_sample\u001b[39m+\u001b[39m\u001b[39m\"\u001b[39m\u001b[39m\\n\u001b[39;00m\u001b[39m\"\u001b[39m)\n\u001b[1;32m     36\u001b[0m \u001b[39mbreak\u001b[39;00m\n",
      "Cell \u001b[0;32mIn[10], line 44\u001b[0m, in \u001b[0;36mlimubert_sample_to_sensorcaps\u001b[0;34m(summary, accl_str, gyro_str)\u001b[0m\n\u001b[1;32m     42\u001b[0m result \u001b[39m=\u001b[39m client\u001b[39m.\u001b[39mchat\u001b[39m.\u001b[39mcompletions\u001b[39m.\u001b[39mcreate(\u001b[39m*\u001b[39m\u001b[39m*\u001b[39mparams)\n\u001b[1;32m     43\u001b[0m messages\u001b[39m.\u001b[39mappend({\u001b[39m\"\u001b[39m\u001b[39mrole\u001b[39m\u001b[39m\"\u001b[39m: \u001b[39m\"\u001b[39m\u001b[39massistant\u001b[39m\u001b[39m\"\u001b[39m, \u001b[39m\"\u001b[39m\u001b[39mcontent\u001b[39m\u001b[39m\"\u001b[39m: result})\n\u001b[0;32m---> 44\u001b[0m sensorcaps_sample \u001b[39m=\u001b[39m json\u001b[39m.\u001b[39;49mdumps({\u001b[39m\"\u001b[39;49m\u001b[39mmessages\u001b[39;49m\u001b[39m\"\u001b[39;49m: messages})\n\u001b[1;32m     45\u001b[0m \u001b[39mreturn\u001b[39;00m sensorcaps_sample\n",
      "File \u001b[0;32m/usr/lib/python3.8/json/__init__.py:231\u001b[0m, in \u001b[0;36mdumps\u001b[0;34m(obj, skipkeys, ensure_ascii, check_circular, allow_nan, cls, indent, separators, default, sort_keys, **kw)\u001b[0m\n\u001b[1;32m    226\u001b[0m \u001b[39m# cached encoder\u001b[39;00m\n\u001b[1;32m    227\u001b[0m \u001b[39mif\u001b[39;00m (\u001b[39mnot\u001b[39;00m skipkeys \u001b[39mand\u001b[39;00m ensure_ascii \u001b[39mand\u001b[39;00m\n\u001b[1;32m    228\u001b[0m     check_circular \u001b[39mand\u001b[39;00m allow_nan \u001b[39mand\u001b[39;00m\n\u001b[1;32m    229\u001b[0m     \u001b[39mcls\u001b[39m \u001b[39mis\u001b[39;00m \u001b[39mNone\u001b[39;00m \u001b[39mand\u001b[39;00m indent \u001b[39mis\u001b[39;00m \u001b[39mNone\u001b[39;00m \u001b[39mand\u001b[39;00m separators \u001b[39mis\u001b[39;00m \u001b[39mNone\u001b[39;00m \u001b[39mand\u001b[39;00m\n\u001b[1;32m    230\u001b[0m     default \u001b[39mis\u001b[39;00m \u001b[39mNone\u001b[39;00m \u001b[39mand\u001b[39;00m \u001b[39mnot\u001b[39;00m sort_keys \u001b[39mand\u001b[39;00m \u001b[39mnot\u001b[39;00m kw):\n\u001b[0;32m--> 231\u001b[0m     \u001b[39mreturn\u001b[39;00m _default_encoder\u001b[39m.\u001b[39;49mencode(obj)\n\u001b[1;32m    232\u001b[0m \u001b[39mif\u001b[39;00m \u001b[39mcls\u001b[39m \u001b[39mis\u001b[39;00m \u001b[39mNone\u001b[39;00m:\n\u001b[1;32m    233\u001b[0m     \u001b[39mcls\u001b[39m \u001b[39m=\u001b[39m JSONEncoder\n",
      "File \u001b[0;32m/usr/lib/python3.8/json/encoder.py:199\u001b[0m, in \u001b[0;36mJSONEncoder.encode\u001b[0;34m(self, o)\u001b[0m\n\u001b[1;32m    195\u001b[0m         \u001b[39mreturn\u001b[39;00m encode_basestring(o)\n\u001b[1;32m    196\u001b[0m \u001b[39m# This doesn't pass the iterator directly to ''.join() because the\u001b[39;00m\n\u001b[1;32m    197\u001b[0m \u001b[39m# exceptions aren't as detailed.  The list call should be roughly\u001b[39;00m\n\u001b[1;32m    198\u001b[0m \u001b[39m# equivalent to the PySequence_Fast that ''.join() would do.\u001b[39;00m\n\u001b[0;32m--> 199\u001b[0m chunks \u001b[39m=\u001b[39m \u001b[39mself\u001b[39;49m\u001b[39m.\u001b[39;49miterencode(o, _one_shot\u001b[39m=\u001b[39;49m\u001b[39mTrue\u001b[39;49;00m)\n\u001b[1;32m    200\u001b[0m \u001b[39mif\u001b[39;00m \u001b[39mnot\u001b[39;00m \u001b[39misinstance\u001b[39m(chunks, (\u001b[39mlist\u001b[39m, \u001b[39mtuple\u001b[39m)):\n\u001b[1;32m    201\u001b[0m     chunks \u001b[39m=\u001b[39m \u001b[39mlist\u001b[39m(chunks)\n",
      "File \u001b[0;32m/usr/lib/python3.8/json/encoder.py:257\u001b[0m, in \u001b[0;36mJSONEncoder.iterencode\u001b[0;34m(self, o, _one_shot)\u001b[0m\n\u001b[1;32m    252\u001b[0m \u001b[39melse\u001b[39;00m:\n\u001b[1;32m    253\u001b[0m     _iterencode \u001b[39m=\u001b[39m _make_iterencode(\n\u001b[1;32m    254\u001b[0m         markers, \u001b[39mself\u001b[39m\u001b[39m.\u001b[39mdefault, _encoder, \u001b[39mself\u001b[39m\u001b[39m.\u001b[39mindent, floatstr,\n\u001b[1;32m    255\u001b[0m         \u001b[39mself\u001b[39m\u001b[39m.\u001b[39mkey_separator, \u001b[39mself\u001b[39m\u001b[39m.\u001b[39mitem_separator, \u001b[39mself\u001b[39m\u001b[39m.\u001b[39msort_keys,\n\u001b[1;32m    256\u001b[0m         \u001b[39mself\u001b[39m\u001b[39m.\u001b[39mskipkeys, _one_shot)\n\u001b[0;32m--> 257\u001b[0m \u001b[39mreturn\u001b[39;00m _iterencode(o, \u001b[39m0\u001b[39;49m)\n",
      "File \u001b[0;32m/usr/lib/python3.8/json/encoder.py:179\u001b[0m, in \u001b[0;36mJSONEncoder.default\u001b[0;34m(self, o)\u001b[0m\n\u001b[1;32m    160\u001b[0m \u001b[39mdef\u001b[39;00m \u001b[39mdefault\u001b[39m(\u001b[39mself\u001b[39m, o):\n\u001b[1;32m    161\u001b[0m \u001b[39m    \u001b[39m\u001b[39m\"\"\"Implement this method in a subclass such that it returns\u001b[39;00m\n\u001b[1;32m    162\u001b[0m \u001b[39m    a serializable object for ``o``, or calls the base implementation\u001b[39;00m\n\u001b[1;32m    163\u001b[0m \u001b[39m    (to raise a ``TypeError``).\u001b[39;00m\n\u001b[0;32m   (...)\u001b[0m\n\u001b[1;32m    177\u001b[0m \n\u001b[1;32m    178\u001b[0m \u001b[39m    \"\"\"\u001b[39;00m\n\u001b[0;32m--> 179\u001b[0m     \u001b[39mraise\u001b[39;00m \u001b[39mTypeError\u001b[39;00m(\u001b[39mf\u001b[39m\u001b[39m'\u001b[39m\u001b[39mObject of type \u001b[39m\u001b[39m{\u001b[39;00mo\u001b[39m.\u001b[39m\u001b[39m__class__\u001b[39m\u001b[39m.\u001b[39m\u001b[39m__name__\u001b[39m\u001b[39m}\u001b[39;00m\u001b[39m \u001b[39m\u001b[39m'\u001b[39m\n\u001b[1;32m    180\u001b[0m                     \u001b[39mf\u001b[39m\u001b[39m'\u001b[39m\u001b[39mis not JSON serializable\u001b[39m\u001b[39m'\u001b[39m)\n",
      "\u001b[0;31mTypeError\u001b[0m: Object of type ChatCompletion is not JSON serializable"
     ]
    }
   ],
   "source": [
    "root_data_dir = \"/hdd/LLM/limuBERT_data/extracted_data\"\n",
    "datasets = sorted(os.listdir(root_data_dir))\n",
    "\n",
    "data_file_name = \"data_20_120.npy\"\n",
    "label_file_name = \"label_20_120.npy\"\n",
    "\n",
    "\n",
    "with open('/hdd/LLM/limuBERT_data/dataset_activity_label.json') as json_file:\n",
    "    dataset_activity_label_dict = json.load(json_file)\n",
    "\n",
    "\n",
    "last_axis_dict = {\n",
    "    \"hhar\": 2, \"motion\":0, \"shoaib\":0, \"uci\":0\n",
    "}\n",
    "with open(\"sensorcaps_untrained.jsonl\",\"w\") as f:\n",
    "    for dataset in datasets:\n",
    "        data = np.load(os.path.join(root_data_dir, dataset, data_file_name))\n",
    "        label = np.load(os.path.join(root_data_dir, dataset, label_file_name))\n",
    "        label_dict = dataset_activity_label_dict[dataset]\n",
    "        last_axis = last_axis_dict[dataset]\n",
    "        print(dataset)\n",
    "        for sample_index in tqdm(range(data.shape[0])):\n",
    "            sample_data = data[sample_index]\n",
    "            key = str(int(label[sample_index, 0, last_axis]))\n",
    "            sample_label = label_dict[str(int(label[sample_index, 0, last_axis]))]\n",
    "            accl, gyro = data[0][:, 0:3], data[0][:, 3:6]\n",
    "            accl, gyro = accl.tolist(), gyro.tolist()\n",
    "            accl_str = sensor_subsampled_string(accl)\n",
    "            gyro_str = sensor_subsampled_string(gyro)\n",
    "            sensorcaps_sample = limubert_sample_to_sensorcaps(\n",
    "                summary=sample_label,\n",
    "                accl_str=accl_str,\n",
    "                gyro_str=gyro_str\n",
    "            )\n",
    "            f.write(sensorcaps_sample+\"\\n\")\n",
    "            break"
   ]
  },
  {
   "cell_type": "code",
   "execution_count": null,
   "metadata": {},
   "outputs": [],
   "source": []
  }
 ],
 "metadata": {
  "kernelspec": {
   "display_name": "Python 3 (ipykernel)",
   "language": "python",
   "name": "python3"
  },
  "language_info": {
   "codemirror_mode": {
    "name": "ipython",
    "version": 3
   },
   "file_extension": ".py",
   "mimetype": "text/x-python",
   "name": "python",
   "nbconvert_exporter": "python",
   "pygments_lexer": "ipython3",
   "version": "3.8.10"
  },
  "orig_nbformat": 4
 },
 "nbformat": 4,
 "nbformat_minor": 2
}
