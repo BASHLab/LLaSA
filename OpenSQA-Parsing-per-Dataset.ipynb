{
 "cells": [
  {
   "cell_type": "code",
   "execution_count": 1,
   "id": "da63f975",
   "metadata": {},
   "outputs": [],
   "source": [
    "import json\n",
    "import numpy as np\n",
    "from tqdm import tqdm\n",
    "import re\n",
    "import os\n",
    "import json\n",
    "import random"
   ]
  },
  {
   "cell_type": "code",
   "execution_count": 2,
   "id": "b62f6ddb",
   "metadata": {},
   "outputs": [],
   "source": [
    "q_regex = re.compile(r\"^\\W{0,5}\\d{1,2}\\. |^\\W{0,5}Question\\s?\\d{0,2}\\W{0,5}|^\\W{0,5}Q\\s?\\d{1,2}\\W{0,5}|^\\W{0,5}\\d{1,2}\\. Question\\W{0,5}\")\n",
    "a_regex = re.compile(r\"^\\W{0,5}\\d{0,2}\\W{0,5}Answer\\s?\\d{0,2}\\W{0,5}|^-|^\\d{0,2}\\W{0,5}A\\s?\\d{0,2}\\W{0,5}:\")\n",
    "\n",
    "\n",
    "def tuplize_qa_pair(q, a):\n",
    "    a=a.strip()\n",
    "    if len(a)>10:\n",
    "        if a_regex.match(a):\n",
    "            a_preface, a_content = a_regex.split(a,1)\n",
    "        elif a[0].isalpha():\n",
    "            a_content = a\n",
    "        else:\n",
    "            raise RuntimeError(f\"Answer regex incomplete: {q}\\nANSWER:{a}\")\n",
    "        \n",
    "        a_content = a_content.strip()\n",
    "        if len(a_content)<10:\n",
    "            print(f\"Small answer dropping: {a_content}\")\n",
    "            return None\n",
    "        return (q, a_content)\n",
    "    else:\n",
    "        if len(a)<10 and len(a)>0:\n",
    "            print(f\"Small answer dropping: {a}\")\n",
    "        return None\n",
    "\n",
    "\n",
    "def one_example(sample):\n",
    "    sample_dict = json.loads(sample)\n",
    "    qa_lines = sample_dict[\"messages\"][2][\"content\"].split(\"\\n\")\n",
    "    qa_pair_list = []\n",
    "    q_prefix = ''\n",
    "    q_content = ''\n",
    "    a = ''\n",
    "    missing = 0\n",
    "    for line in qa_lines:\n",
    "        line = line.strip()\n",
    "        if q_regex.match(line) and not a_regex.match(line):\n",
    "            old_q_prefix = q_prefix\n",
    "            old_q_content = q_content\n",
    "            assert len(q_regex.findall(line))==1, q_regex.findall(line)\n",
    "            q_prefix = q_regex.findall(line)[0]\n",
    "            q_content  = q_regex.split(line,1)[1]\n",
    "            if q_prefix == old_q_prefix and re.match(r\"\\d\",q_prefix):\n",
    "                # Answer recovery when q and a are both 1. 2. etc\n",
    "                a+=q_content+\"\\n\"\n",
    "                q_content = old_q_content\n",
    "            else:\n",
    "                qa_pair = tuplize_qa_pair(q_content, a)\n",
    "                if qa_pair is not None:\n",
    "                    qa_pair_list.append(qa_pair)\n",
    "                a = ''\n",
    "        else:\n",
    "            a+=line+'\\n'\n",
    "    qa_pair = tuplize_qa_pair(q_content, a)\n",
    "    if qa_pair is not None:\n",
    "        qa_pair_list.append(qa_pair)\n",
    "    return qa_pair_list, 10-len(qa_pair_list)"
   ]
  },
  {
   "cell_type": "code",
   "execution_count": 3,
   "id": "85cec704-dcb4-4a54-a51a-4324d7f2a2d7",
   "metadata": {},
   "outputs": [],
   "source": [
    "image_dir = \"/hdd/LLM/limuBERT_data/train_llasa/images\""
   ]
  },
  {
   "cell_type": "code",
   "execution_count": 4,
   "id": "6ad15192",
   "metadata": {},
   "outputs": [],
   "source": [
    "def limubert_normalize(data):\n",
    "    data[:, :, :3] = data[:, :, :3]/9.8\n",
    "    return data"
   ]
  },
  {
   "cell_type": "code",
   "execution_count": 5,
   "id": "e6507254",
   "metadata": {},
   "outputs": [
    {
     "name": "stderr",
     "output_type": "stream",
     "text": [
      "  7%|▋         | 666/9166 [00:01<00:13, 614.37it/s]"
     ]
    },
    {
     "name": "stdout",
     "output_type": "stream",
     "text": [
      "10 missing:1. Based on the gyroscope data showing changes in all axes and the indication of turning and maneuvering, can you deduce if the user is riding on a straight road or a curved path? \n",
      "2. Given the gyroscope z-axis vibrations coincide with road bumps, how can you differentiate between different types of road conditions, such as riding on a smooth road versus a bumpy off-road trail, using this information?\n",
      "3. How can the accelerometer readings help in determining the intensity of pedaling during biking based on the repetitive motion patterns observed?\n",
      "4. Can the sudden spikes in accelerometer data be used to determine if the user is braking, accelerating, or encountering obstacles while biking? \n",
      "5. How do the gyroscope x-axis values being high and steady correlate with the user's speed maintenance during biking? \n",
      "6. Considering the gyroscope data and the accelerometer z-axis fluctuations, how could you infer whether the user is cycling on flat terrain or encountering varying elevations like hills or slopes?\n",
      "7. How can you distinguish between the user pedaling uphill versus pedaling downhill by analyzing the gyroscope and accelerometer data together?\n",
      "8. With the gyroscope showing changes in all axes, how could you identify if the user is making sharp turns or gradual turns based on the data patterns?\n",
      "9. Given the fluctuations in the accelerometer readings and the gyroscope data, can you estimate the user's overall speed during the biking activity?\n",
      "10. How can the combination of gyroscope and accelerometer data provide insights into the user's stability and balance while biking, especially when encountering uneven surfaces or obstacles?\n",
      "[]\n"
     ]
    },
    {
     "name": "stderr",
     "output_type": "stream",
     "text": [
      " 15%|█▍        | 1365/9166 [00:02<00:12, 619.81it/s]"
     ]
    },
    {
     "name": "stdout",
     "output_type": "stream",
     "text": [
      "10 missing:1. Based on the gyroscope data, can we determine the direction in which the biker is leaning during the biking activity? If so, how can we infer this information from the sensor readings?\n",
      "2. How can we use the accelerometer data to differentiate between uphill and downhill segments of the biking route?\n",
      "3. Is it possible to estimate the speed of the biker during specific instances of the biking session using the gyroscope and accelerometer data? If yes, how can we calculate this speed?\n",
      "4. Can we identify any specific maneuvers performed by the biker, such as sharp turns or sudden stops, by analyzing both the gyroscope and accelerometer data together?\n",
      "5. How do the gyroscope and accelerometer readings change when the biker accelerates from a stationary position at the beginning of the biking activity?\n",
      "6. Are there any patterns or trends in the gyroscope data that indicate when the biker is pedaling harder or softer during the biking session?\n",
      "7. Can we determine the type of surface the biker is riding on (e.g., smooth road, rough terrain) by analyzing the fluctuations in the accelerometer readings throughout the biking event?\n",
      "8. How do the gyroscope and accelerometer readings differ when the biker is going uphill compared to when they are riding on a flat surface?\n",
      "9. Is it possible to estimate the distance traveled by the biker during the entire biking session by analyzing the gyroscope and accelerometer data? If so, what methodology can be employed to make this estimation?\n",
      "10. How can the gyroscope and accelerometer data help in identifying any instances of abrupt changes in the biker's cycling cadence or rhythm throughout the biking activity?\n",
      "[]\n"
     ]
    },
    {
     "name": "stderr",
     "output_type": "stream",
     "text": [
      " 19%|█▉        | 1727/9166 [00:02<00:12, 582.41it/s]"
     ]
    },
    {
     "name": "stdout",
     "output_type": "stream",
     "text": [
      "Small answer dropping: - **\n"
     ]
    },
    {
     "name": "stderr",
     "output_type": "stream",
     "text": [
      " 33%|███▎      | 3025/9166 [00:05<00:12, 509.36it/s]"
     ]
    },
    {
     "name": "stdout",
     "output_type": "stream",
     "text": [
      "10 missing:1. Based on the given gyroscopic data during walking, can you explain the significance of the varying values on all axes? How do these variations contribute to understanding the walking pattern?\n",
      "2. Looking at the accelerometer data recorded during walking, how do the changes in acceleration along the x, y, and z axes help in analyzing the motion dynamics of the walking activity?\n",
      "3. How can the consistent patterns of fluctuations seen in both gyroscopic and accelerometer data be utilized to detect and analyze the rhythmic steps taken during walking?\n",
      "4. What specific insights can be derived from the sudden spikes observed in the accelerometer values during walking? How do these spikes relate to the dynamics of walking motion?\n",
      "5. How do the consistent oscillations in the gyroscopic data contribute to understanding the stability and regularity of the walking gait pattern? Can you discuss any deviations that may be observed in the data?\n",
      "6. In the context of walking gait analysis, how can the IMU sensor data be used to differentiate between changes in walking pace, abrupt stops, and continuous motion?\n",
      "7. Can you explain how the combination of gyroscopic and accelerometer data provides a comprehensive understanding of the nuanced movements associated with walking? How do these two types of data complement each other during gait analysis?\n",
      "8. How could you identify the phase of the walking cycle (e.g., stance, swing) by analyzing the gyroscopic and accelerometer data collected during the activity?\n",
      "9. Is it possible to estimate the speed of the walking activity by analyzing the patterns and trends in the accelerometer data recorded along different axes? If yes, how would you approach this analysis?\n",
      "10. Considering the IMU sensor data provided for the walking activity, how might you utilize machine learning algorithms or signal processing techniques to automate the detection and classification of different walking patterns or deviations from a typical walking gait?\n",
      "[]\n"
     ]
    },
    {
     "name": "stderr",
     "output_type": "stream",
     "text": [
      " 39%|███▉      | 3566/9166 [00:06<00:11, 476.62it/s]"
     ]
    },
    {
     "name": "stdout",
     "output_type": "stream",
     "text": [
      "9 missing:1. Can you explain why the gyroscope data hovering around 0 on all axes suggests minimal movement during the activity of standing?\n",
      "1. Why does the consistent accelerometer reading primarily in the z-axis indicate that the user is maintaining a stationary position?\n",
      "2. How do the minor fluctuations in the gyroscope data contribute to the understanding of the user's posture while standing?\n",
      "3. What could be the possible reasons behind the slight variations in the gyroscope readings while the user is standing still?\n",
      "4. How does the accelerometer data reflecting a constant acceleration due to gravity align with the expected sensor readings for a stationary posture?\n",
      "5. What specific patterns or changes in the sensor data would indicate significant movement while the user is standing still?\n",
      "6. How do involuntary tremors or natural body sway manifest in the gyroscope data when a person is standing?\n",
      "7. In what ways can the gyroscope and accelerometer data differentiate between intentional movements and natural body adjustments during standing activities?\n",
      "8. How can the gyroscopic data be used to distinguish between deliberate movement and incidental motion in a stationary posture?\n",
      "9. What additional insights can be gained by analyzing the gyroscope and accelerometer data together to assess the user's stability while standing?\n",
      "10. How do the gyroscope and accelerometer readings provide a comprehensive understanding of the user's body position and movement dynamics during stationary activities like standing?\n",
      "[(\"How do the minor fluctuations in the gyroscope data contribute to the understanding of the user's posture while standing?\", 'Why does the consistent accelerometer reading primarily in the z-axis indicate that the user is maintaining a stationary position?')]\n",
      "Potential corner case\n"
     ]
    },
    {
     "name": "stderr",
     "output_type": "stream",
     "text": [
      " 57%|█████▋    | 5212/9166 [00:09<00:08, 489.97it/s]"
     ]
    },
    {
     "name": "stdout",
     "output_type": "stream",
     "text": [
      "10 missing:1. Based on the gyroscope data, can you deduce which axis experiences the highest amount of rotation while descending stairs? How does this information contribute to understanding the dynamics of descending stairs?\n",
      "2. How do the spikes in the accelerometer data correspond with the gyroscope data during the descent of stairs? What can these spikes indicate about the individual's movement pattern?\n",
      "3. Is there a correlation between the peaks in acceleration values and the sudden changes in rotation angles captured by the gyroscope data? How do these simultaneous changes affect the overall movement pattern during descending stairs?\n",
      "4. Can you analyze the relationship between the gyroscope data and accelerometer data to identify specific instances where rotation and acceleration synchronize to facilitate the descent of stairs effectively?\n",
      "5. How do the variations in acceleration and rotation data captured by the gyroscope and accelerometer sensors reflect the different phases of descending stairs, such as stepping down, landing, and pushing off for the next step?\n",
      "6. Considering the gyroscope data, can you determine if there are any asymmetries in rotation angles between the left and right sides of the body while descending stairs? How might these asymmetries impact the individual's balance and coordination?\n",
      "7. Are there any consistent patterns or repeating sequences observed in the gyroscope and accelerometer data that indicate specific movement strategies employed during the descent of stairs?\n",
      "8. How do the abrupt changes in acceleration values captured by the accelerometer data correspond to the adjustments in rotation angles recorded by the gyroscope data when navigating the different levels of stairs?\n",
      "9. Can you infer the speed and pace of the descent based on the patterns observed in the gyroscope and accelerometer data? How do these metrics influence the energy expenditure and efficiency of the descending activity?\n",
      "10. Considering the combined information from the gyroscope and accelerometer data, can you identify any instances of missteps or irregular movements during the descent of stairs? How do these deviations contribute to understanding the challenges faced during stair descent?\n",
      "[]\n"
     ]
    },
    {
     "name": "stderr",
     "output_type": "stream",
     "text": [
      " 64%|██████▍   | 5855/9166 [00:11<00:06, 511.64it/s]"
     ]
    },
    {
     "name": "stdout",
     "output_type": "stream",
     "text": [
      "6 missing:1. How do the gyroscope and accelerometer readings in the Z-axis correlate during the initial steps of the stair climbing activity, based on the provided data?\n",
      "Answer: During the initial steps, the gyroscope data in the Z-axis mainly shows negative values, indicating downward movement, while the accelerometer data in the Z-axis shows significant fluctuations with upward acceleration. This suggests that the user is lifting their leg to climb the stairs, resulting in the congruence between the negative Z-axis gyroscope values and the upward acceleration in the Z-axis accelerometer data.\n",
      "\n",
      "2. What can be inferred from the transition of the gyroscope values in the Z-axis to positive values midway through the stair climbing activity?\n",
      "Answer: The transition of the gyroscope values in the Z-axis to positive values midway through the stair climbing activity indicates a change in the direction of movement. This change aligns with the accelerometer data, suggesting that the user has reached a point where they are moving up the stairs, causing the gyroscope values to shift towards the positive side to maintain balance and coordination.\n",
      "\n",
      "3. How do the abrupt changes in gyroscope readings at the end of the climb signify the completion of the stair climbing activity?\n",
      "Answer: The abrupt changes in gyroscope readings at the end of the climb, along with a reduction in Z-axis acceleration in the accelerometer data, indicate that the user has reached the top of the stairs or completed the climbing activity. These changes suggest a sudden stop in upward movement and a transition to a more static or downward motion, reflecting the end of the stair climbing process.\n",
      "\n",
      "4. What role do the consistent Y-axis gyroscope values play in maintaining balance during the stair climbing activity?\n",
      "Answer: The consistent Y-axis gyroscope values suggest that the user is maintaining balance while climbing the stairs. By keeping the Y-axis gyroscope values steady, the user is effectively managing their body orientation and minimizing unnecessary swaying or tilting movements that could result in losing balance during the activity.\n",
      "[('What can be inferred from the transition of the gyroscope values in the Z-axis to positive values midway through the stair climbing activity?', 'During the initial steps, the gyroscope data in the Z-axis mainly shows negative values, indicating downward movement, while the accelerometer data in the Z-axis shows significant fluctuations with upward acceleration. This suggests that the user is lifting their leg to climb the stairs, resulting in the congruence between the negative Z-axis gyroscope values and the upward acceleration in the Z-axis accelerometer data.'), ('How do the abrupt changes in gyroscope readings at the end of the climb signify the completion of the stair climbing activity?', 'The transition of the gyroscope values in the Z-axis to positive values midway through the stair climbing activity indicates a change in the direction of movement. This change aligns with the accelerometer data, suggesting that the user has reached a point where they are moving up the stairs, causing the gyroscope values to shift towards the positive side to maintain balance and coordination.'), ('What role do the consistent Y-axis gyroscope values play in maintaining balance during the stair climbing activity?', 'The abrupt changes in gyroscope readings at the end of the climb, along with a reduction in Z-axis acceleration in the accelerometer data, indicate that the user has reached the top of the stairs or completed the climbing activity. These changes suggest a sudden stop in upward movement and a transition to a more static or downward motion, reflecting the end of the stair climbing process.'), ('What role do the consistent Y-axis gyroscope values play in maintaining balance during the stair climbing activity?', 'The consistent Y-axis gyroscope values suggest that the user is maintaining balance while climbing the stairs. By keeping the Y-axis gyroscope values steady, the user is effectively managing their body orientation and minimizing unnecessary swaying or tilting movements that could result in losing balance during the activity.')]\n",
      "Potential corner case\n"
     ]
    },
    {
     "name": "stderr",
     "output_type": "stream",
     "text": [
      " 70%|███████   | 6425/9166 [00:12<00:05, 536.40it/s]"
     ]
    },
    {
     "name": "stdout",
     "output_type": "stream",
     "text": [
      "Small answer dropping: **Answer\n"
     ]
    },
    {
     "name": "stderr",
     "output_type": "stream",
     "text": [
      " 74%|███████▍  | 6771/9166 [00:12<00:05, 468.31it/s]"
     ]
    },
    {
     "name": "stdout",
     "output_type": "stream",
     "text": [
      "Small answer dropping: 8.\n"
     ]
    },
    {
     "name": "stderr",
     "output_type": "stream",
     "text": [
      " 76%|███████▌  | 6934/9166 [00:13<00:04, 504.93it/s]"
     ]
    },
    {
     "name": "stdout",
     "output_type": "stream",
     "text": [
      "Small answer dropping: Answer:\n",
      "Small answer dropping: Answer:\n",
      "Small answer dropping: Answer:\n"
     ]
    },
    {
     "name": "stderr",
     "output_type": "stream",
     "text": [
      " 77%|███████▋  | 7040/9166 [00:13<00:04, 488.87it/s]"
     ]
    },
    {
     "name": "stdout",
     "output_type": "stream",
     "text": [
      "10 missing:1. How can we differentiate between the gyroscope and accelerometer sensor data in the context of walking activity based on the provided readings?\n",
      "2. What insights can we draw from the fluctuations in the gyroscope data regarding the walking gait analysis?\n",
      "3. How do the periodic patterns observed in the gyroscope data contribute to understanding the rhythmic walking motion?\n",
      "4. Can you explain the relationship between the spikes in acceleration data and foot contacts during walking, considering the accelerometer readings?\n",
      "5. How do the consistent small changes in the gyroscope data relate to body sway and balance adjustments while walking?\n",
      "6. By analyzing the acceleration data, how can we determine the impact of steps and changes in the body's gravity during the walking activity?\n",
      "7. Considering the gyroscope data during walking, how would you differentiate between rotational movements in different axes?\n",
      "8. How do the gyroscope and accelerometer readings collectively contribute to identifying a typical gait signature during walking?\n",
      "9. Can you discuss how the gyroscope readings can reflect the rotational movement of specific body parts during walking?\n",
      "10. In what ways do the accelerometer readings indicate the overall dynamics of the walking activity, considering the variations in acceleration in different directions?\n",
      "[]\n"
     ]
    },
    {
     "name": "stderr",
     "output_type": "stream",
     "text": [
      " 84%|████████▎ | 7672/9166 [00:14<00:02, 503.54it/s]"
     ]
    },
    {
     "name": "stdout",
     "output_type": "stream",
     "text": [
      "10 missing:1. Based on the accelerometer data, can you determine the direction of movement (upwards or downwards) of the user while descending stairs? Explain your reasoning.\n",
      "2. How can you differentiate between a person descending stairs and ascending stairs using only the gyroscopic sensor data provided? What specific patterns or features would you look for?\n",
      "3. Can you identify any specific moments during the stair descent where there is a sudden change in acceleration based on the accelerometer readings? What could these moments indicate about the user's movement?\n",
      "4. From the gyroscopic data, can you estimate the average angle of inclination of the user's body during the stair descent? How would you approach calculating this angle using the sensor readings?\n",
      "5. Is it possible to distinguish between different types of stairs (e.g., straight stairs, spiral stairs) solely by analyzing the provided gyroscopic and accelerometer data? If so, what characteristics would you look for?\n",
      "6. How do the variations in angular velocity captured by the gyroscope sensor align with the peaks and valleys observed in the accelerometer data during the stair descent? Can you explain the relationship between these variations?\n",
      "7. Are there any specific timestamps where the user's movement during the stair descent seems to be more controlled and steady, based on the combined analysis of gyroscopic and accelerometer data? What factors might contribute to this observed stability?\n",
      "8. Considering the alternating peaks and valleys in the accelerometer data, how could you determine the frequency of steps taken by the user while descending the stairs? What approach would you use to extract this information from the sensor readings?\n",
      "9. In the context of stair descent, how do the angular velocity and acceleration profiles differ between the initial phase (start) and final phase (end) of the activity? Can you identify any trends or changes in the sensor data that reflect this transition?\n",
      "10. Given the described sensor data and activity context, what additional sensor(s) or data fusion techniques could enhance the analysis of the user's movements during stair descent? How might incorporating supplementary information improve the understanding of the activity?\n",
      "[]\n",
      "Small answer dropping: The gy\n"
     ]
    },
    {
     "name": "stderr",
     "output_type": "stream",
     "text": [
      " 93%|█████████▎| 8539/9166 [00:16<00:01, 545.44it/s]"
     ]
    },
    {
     "name": "stdout",
     "output_type": "stream",
     "text": [
      "10 missing:1. Can you explain how the gyroscope data could be used to determine the user's body orientation while descending stairs?\n",
      "2. How do the sudden spikes in accelerometer values align with the user's actions during the descent of stairs?\n",
      "3. Is there a correlation between the peaks in the accelerometer z-axis data and the fluctuations in the gyroscopic data during the staircase descent?\n",
      "4. How do the accelerometer readings help in understanding the intensity of acceleration during different phases of descending stairs?\n",
      "5. Based on the gyroscope data, can we infer if the user experienced any rotational movement or instability while descending the stairs?\n",
      "6. How do the gyroscope readings reflect the user's adjustments for maintaining balance while descending the staircase?\n",
      "7. Can you identify any specific pattern in the gyroscope data that corresponds to the user taking steps during the staircase descent?\n",
      "8. How do the accelerometer readings change as the user transitions from one step to another while descending stairs?\n",
      "9. Considering the varying acceleration intensity mentioned in the features, how do the accelerometer readings support this characteristic throughout the staircase descent?\n",
      "10. In the context of the user's controlled movements, can you elaborate on how the gyroscope and accelerometer data work together to showcase the user's navigation strategy while descending the stairs?\n",
      "[]\n"
     ]
    },
    {
     "name": "stderr",
     "output_type": "stream",
     "text": [
      " 96%|█████████▌| 8771/9166 [00:16<00:00, 536.20it/s]"
     ]
    },
    {
     "name": "stdout",
     "output_type": "stream",
     "text": [
      "Small answer dropping: - Answer:\n"
     ]
    },
    {
     "name": "stderr",
     "output_type": "stream",
     "text": [
      "100%|██████████| 9166/9166 [00:17<00:00, 514.85it/s]\n"
     ]
    },
    {
     "name": "stdout",
     "output_type": "stream",
     "text": [
      "Missing: 2001, 2.1830678594806896%\n"
     ]
    },
    {
     "name": "stderr",
     "output_type": "stream",
     "text": [
      " 10%|▉         | 432/4534 [00:00<00:08, 493.56it/s]"
     ]
    },
    {
     "name": "stdout",
     "output_type": "stream",
     "text": [
      "Small answer dropping: -\n"
     ]
    },
    {
     "name": "stderr",
     "output_type": "stream",
     "text": [
      " 18%|█▊        | 813/4534 [00:01<00:07, 478.81it/s]"
     ]
    },
    {
     "name": "stdout",
     "output_type": "stream",
     "text": [
      "10 missing:1. How can you differentiate between the gyroscope and accelerometer data in the context of jogging based on the provided sensor readings?\n",
      "2. How do the gyroscope readings of the user changing directions frequently during jogging manifest in the sensor data?\n",
      "3. Why do the accelerometer data spikes indicate quick changes in speed during jogging?\n",
      "4. Can you explain how the high acceleration values in the accelerometer data correlate to the impact of foot strikes while jogging?\n",
      "5. How can you infer the repetitive motion of jogging from the gyroscope readings as the session progresses?\n",
      "6. What insights can you derive from the gyroscope data towards the end of the narration where there is a gradual decrease in acceleration values?\n",
      "7. Based on the accelerometer data, how do the consistent spikes in acceleration values reflect the dynamic movement observed during jogging?\n",
      "8. What do the varying rotations along all axes in the gyroscope readings suggest about the nature of the user's movements during jogging?\n",
      "9. How do the consistent shifts in gyroscopic readings at the beginning of the activity align with the user's behavior while jogging?\n",
      "10. How do the accelerometer data readings in the vertical component provide information about the force exerted by the user's foot strikes during jogging?\n",
      "[]\n"
     ]
    },
    {
     "name": "stderr",
     "output_type": "stream",
     "text": [
      " 27%|██▋       | 1218/4534 [00:02<00:07, 417.13it/s]"
     ]
    },
    {
     "name": "stdout",
     "output_type": "stream",
     "text": [
      "10 missing:1. Based on the gyroscope data indicating minimal movement, can we conclude that the user is stationary or engaged in a slow, controlled motion during the sitting activity? How does the gyroscope data support this conclusion?\n",
      "2. How do the accelerometer readings align with the gyroscope data in the context of the user sitting with minimal movement? What specific patterns or trends in the accelerometer data validate the sedentary nature of the activity?\n",
      "3. Can you explain how the gyroscope data differs between a sitting activity with minimal movement and a standing activity with no movement? What distinctive features in the gyroscope readings help differentiate between these two scenarios?\n",
      "4. Considering the accelerometer data during the sitting activity, what do the consistent x, y, and z values indicate about the orientation of the user? How do these values contribute to confirming the static position of the user?\n",
      "5. If the user were to shift from sitting to standing during the activity, how would you expect the gyroscope readings to change, and what specific variations would you anticipate in the accelerometer data? Discuss the expected differences in sensor data between sitting and standing positions.\n",
      "6. How would the gyroscope data appear if the user were sitting but making small, periodic movements, such as tapping their foot or shifting slight body weight? What changes in the gyroscope readings would you look for to detect these subtle actions?\n",
      "7. In the given scenario of sitting with minimal movement, if the user were to suddenly lean forward or backward, how might this movement manifest in the gyroscope readings? Describe the expected gyroscope patterns during abrupt positional changes while sitting.\n",
      "8. Is it possible to determine the angle of inclination or tilt of the user's body based on the accelerometer data alone during this sitting activity? How would you analyze the accelerometer readings to estimate the body posture of the user in terms of tilt angle?\n",
      "9. How would the sensor data differ if the sitting activity involved the user fidgeting or adjusting their posture occasionally? Can you identify any specific irregularities in the gyroscope and accelerometer data that would suggest such additional movements?\n",
      "10. Considering the overall lack of significant peaks or fluctuations in the IMU data, how might environmental factors impact the sensor readings during a stationary sitting activity? Discuss how external disturbances could influence the stability of the gyroscope and accelerometer data in this context.\n",
      "[]\n"
     ]
    },
    {
     "name": "stderr",
     "output_type": "stream",
     "text": [
      " 33%|███▎      | 1478/4534 [00:03<00:06, 495.17it/s]"
     ]
    },
    {
     "name": "stdout",
     "output_type": "stream",
     "text": [
      "Small answer dropping: Answer\n"
     ]
    },
    {
     "name": "stderr",
     "output_type": "stream",
     "text": [
      " 41%|████      | 1868/4534 [00:03<00:05, 488.42it/s]"
     ]
    },
    {
     "name": "stdout",
     "output_type": "stream",
     "text": [
      "10 missing:1. What does the consistency in the gyroscope readings, as indicated by the values remaining close to zero, suggest about the user's motion during the sitting activity?\n",
      "2. How do the accelerometer readings support the idea of the user being in a stationary position throughout the activity of sitting?\n",
      "3. Can you explain why there are slight fluctuations in the sensor data while the user is sitting, particularly in the context of the gyroscope and accelerometer readings?\n",
      "4. Considering the accelerometer data's minor increase towards the end of the sitting activity, what could this suggest about the user's movement or posture at that moment?\n",
      "5. How do the overall patterns of the gyroscope and accelerometer data align with the expected sensor readings for a stationary activity like sitting?\n",
      "6. Is there any indication in the gyroscope readings that the user might have made any deliberate rotational movements during the sitting activity?\n",
      "7. How can the consistency in both the gyroscope and accelerometer readings be useful for identifying and distinguishing sitting activity from other physical motions?\n",
      "8. What specific differences in the sensor data would you expect to see if the user engaged in a different activity, such as standing up or walking, compared to the sitting activity described here?\n",
      "9. Considering the nature of the gyroscope and accelerometer data during sitting, how could you differentiate between a scenario where the user is sitting still versus fidgeting or making minor adjustments in their seating position?\n",
      "10. In what ways could further analysis of the temporal patterns within the gyroscope and accelerometer data help in understanding the user's behavior or movements during the sitting activity?\n",
      "[]\n"
     ]
    },
    {
     "name": "stderr",
     "output_type": "stream",
     "text": [
      " 96%|█████████▋| 4367/4534 [00:09<00:00, 410.54it/s]"
     ]
    },
    {
     "name": "stdout",
     "output_type": "stream",
     "text": [
      "Small answer dropping: To\n"
     ]
    },
    {
     "name": "stderr",
     "output_type": "stream",
     "text": [
      " 98%|█████████▊| 4464/4534 [00:09<00:00, 423.52it/s]"
     ]
    },
    {
     "name": "stdout",
     "output_type": "stream",
     "text": [
      "Small answer dropping: \n"
     ]
    },
    {
     "name": "stderr",
     "output_type": "stream",
     "text": [
      "100%|██████████| 4534/4534 [00:09<00:00, 470.55it/s]\n"
     ]
    },
    {
     "name": "stdout",
     "output_type": "stream",
     "text": [
      "Missing: 731, 1.6122629025143362%\n"
     ]
    },
    {
     "name": "stderr",
     "output_type": "stream",
     "text": [
      "  8%|▊         | 808/10500 [00:01<00:15, 614.59it/s]"
     ]
    },
    {
     "name": "stdout",
     "output_type": "stream",
     "text": [
      "10 missing:1. How can we determine the start of the stair climbing activity based on the gyroscope and accelerometer data provided?\n",
      "2. Can we identify specific steps taken by the user during the stair climbing activity using the gyroscope and accelerometer data? If so, how?\n",
      "3. What do the fluctuations in the y-axis gyroscope readings indicate during the stair climbing activity?\n",
      "4. Is it possible to estimate the number of stairs climbed by analyzing the gyroscope and accelerometer data? If yes, explain the approach.\n",
      "5. How do the peak values in the positive z-axis accelerometer readings correlate with the user's action of stepping up while climbing stairs?\n",
      "6. What patterns can be observed in the gyroscope data that align with the user reaching the top of the stairs during the activity?\n",
      "7. How do the negative z-axis acceleration values and gyroscope data changes characterize the user's downward movement while descending the stairs?\n",
      "8. Can we differentiate between the moment the user starts ascending the stairs and when they start descending based on the sensor readings? If so, explain how.\n",
      "9. How do the gyroscope and accelerometer readings differ when the user is stepping up a stair versus when they are stepping down?\n",
      "10. Is it possible to estimate the speed of stair climbing based on the provided gyroscope and accelerometer data? If yes, describe the methodology.\n",
      "[]\n"
     ]
    },
    {
     "name": "stderr",
     "output_type": "stream",
     "text": [
      " 17%|█▋        | 1742/10500 [00:02<00:16, 526.38it/s]"
     ]
    },
    {
     "name": "stdout",
     "output_type": "stream",
     "text": [
      "10 missing:1. Based on the gyroscope sensor data showing consistent movements in all axes and spikes in angular velocity values, how can we differentiate between a left turn and a right turn during the biking activity?\n",
      "2. Given the accelerometer readings showing significant fluctuations in all axes and abrupt changes in acceleration, how can we identify moments when the biker is going uphill or downhill?\n",
      "3. How do the gyroscope sensor data's indications of rotation and angular velocity align with the characteristics of a dynamic activity like biking, as mentioned in the summary?\n",
      "4. Can the accelerometer data be used to determine the speed of the biker during the biking activity? If so, what specific aspects of the data would be analyzed for this purpose?\n",
      "5. By examining the gyroscope sensor data for sharp turns and sudden changes in direction, can we infer whether the biker is following a straight path or navigating through a series of curves?\n",
      "6. How do the variations in angular velocity values captured by the gyroscope sensor correlate with the description of sharp turns provided in the summary of the biking activity?\n",
      "7. Is it possible to distinguish between moments when the biker is stationary and when they are actively pedaling based on the accelerometer readings alone? If so, what characteristics in the data would indicate each scenario?\n",
      "8. Given the gyroscope data's representation of rotation and angular velocity, how might we identify instances where the biker is performing maneuvers such as leaning into a turn or maintaining balance while riding?\n",
      "9. Can the combination of gyroscope and accelerometer data provide insights into the biker's overall balance and stability during the biking activity? What specific patterns or trends would support such an analysis?\n",
      "10. How could the abrupt changes in acceleration recorded by the accelerometer sensor be linked to the described sharp turns and swift movements during the biking activity, as outlined in the narration?\n",
      "[]\n",
      "10 missing:1. Given the gyroscope data showing fluctuations in all axes, how can we differentiate between the rotational movements of the bike itself versus the rider's body movements during the biking activity?\n",
      "2. How do the accelerometer readings reflect the initial slight wobbles detected during the biking activity?\n",
      "3. What can we infer from the gyroscope and accelerometer data about the rider's speed variations while biking?\n",
      "4. Can you explain how the sharp spikes in both gyroscope and accelerometer data could be attributed to specific actions performed during biking, such as sudden maneuvers or road bumps?\n",
      "5. Based on the gyroscope data showing varied motion intensity, can you identify any specific sections in the data where the rider might be encountering challenging terrains or steep inclines?\n",
      "6. How do the consistent changes in acceleration, as indicated by the accelerometer data, correlate with the rhythmic pedaling of the biking activity?\n",
      "7. Considering the patterns of movement in both sensors, how can we differentiate between the vibrations caused by road irregularities and those resulting from the rider's body movements?\n",
      "8. Can you use the gyroscope data to determine if there are any instances of the rider making sharp turns while biking?\n",
      "9. How do the gyroscope readings contribute to understanding the rider's body posture and balance adjustments while biking?\n",
      "10. Based on the accelerometer data, can you identify any instances where the rider may have applied brakes or experienced sudden stops during the biking activity?\n",
      "[]\n"
     ]
    },
    {
     "name": "stderr",
     "output_type": "stream",
     "text": [
      " 18%|█▊        | 1875/10500 [00:03<00:15, 543.25it/s]"
     ]
    },
    {
     "name": "stdout",
     "output_type": "stream",
     "text": [
      "10 missing:1. Why are the gyroscopic readings essential in analyzing biking activities, and how do the initial gyroscopic values align with the beginning of the biking session?\n",
      "2. Can you explain how the spikes in both gyroscopic and accelerometer data reflect the rapid movements observed during the biking activity?\n",
      "3. How do the sharp peaks in the gyroscopic data correlate with the physical actions a biker might be undertaking, such as navigating obstacles or making sharp turns?\n",
      "4. What specific details in the accelerometer data support the notion of varying speeds and terrain types being encountered during the biking session?\n",
      "5. How does the gradual decrease in intensity, reflected in both gyroscopic and accelerometer data towards the end, correspond to the typical patterns seen in a biking activity as it winds down?\n",
      "6. Given the gyroscope readings, can you deduce if the biker experienced any sudden jerks or abrupt changes in orientation during the activity?\n",
      "7. Based on the accelerometer data, can you estimate the maximum acceleration experienced by the biker during the biking session?\n",
      "8. How do the patterns in the gyroscopic data differ between steady biking on a straight path and when the biker is making sharp turns or quick maneuvers?\n",
      "9. From the fluctuations in both sensors, can you infer if the biking route included uphill or downhill slopes that influenced the biker's speed and exertion levels?\n",
      "10. How do the gyroscopic and accelerometer readings collectively provide insights into the overall agility and responsiveness of the biker during the biking activity?\n",
      "[]\n"
     ]
    },
    {
     "name": "stderr",
     "output_type": "stream",
     "text": [
      " 28%|██▊       | 2912/10500 [00:05<00:13, 562.24it/s]"
     ]
    },
    {
     "name": "stdout",
     "output_type": "stream",
     "text": [
      "10 missing:1. Based on the gyroscopic data showing fluctuations at the beginning, what kind of movements can be inferred about the initial phase of the biking activity?\n",
      "2. What specific information can be derived from the accelerometer data indicating varying intensities of movement while biking?\n",
      "3. How do the consistent patterns of rotation in the gyroscopic data contribute to understanding the directional movement during biking?\n",
      "4. What can be deduced from the spikes in accelerometer readings in relation to the biking activity and the environment?\n",
      "5. How does the gradual decrease in gyroscopic values correlate with the process of deceleration or slowing down during the biking session?\n",
      "6. Can the sharp decrease in accelerometer readings at the end be indicative of a specific event or action occurring to mark the completion of the biking event?\n",
      "7. How could the alignment of the gyroscopic data with the accelerometer data provide insights into the stability and balance of the biker during the biking activity?\n",
      "8. What role do the magnitudes and directions of the accelerometer readings play in understanding the dynamic movements and changes in speed experienced during biking?\n",
      "9. Are there any specific patterns or trends in the gyroscopic data that might indicate turns or curves taken by the biker during the biking session?\n",
      "10. How could further analysis of the gyroscopic and accelerometer data help in distinguishing between different phases of the biking activity, such as acceleration, cruising, and deceleration?\n",
      "[]\n"
     ]
    },
    {
     "name": "stderr",
     "output_type": "stream",
     "text": [
      " 30%|███       | 3154/10500 [00:05<00:16, 443.16it/s]"
     ]
    },
    {
     "name": "stdout",
     "output_type": "stream",
     "text": [
      "Small answer dropping: Answer:\n",
      "Small answer dropping: Answer:\n",
      "Small answer dropping: Answer:\n",
      "Small answer dropping: Answer:\n"
     ]
    },
    {
     "name": "stderr",
     "output_type": "stream",
     "text": [
      " 31%|███▏      | 3285/10500 [00:05<00:14, 511.27it/s]"
     ]
    },
    {
     "name": "stdout",
     "output_type": "stream",
     "text": [
      "Small answer dropping: - To\n"
     ]
    },
    {
     "name": "stderr",
     "output_type": "stream",
     "text": [
      " 47%|████▋     | 4979/10500 [00:08<00:08, 621.78it/s]"
     ]
    },
    {
     "name": "stdout",
     "output_type": "stream",
     "text": [
      "10 missing:1. Based on the gyroscope data showing varied angular rates and the erratic acceleration patterns in the accelerometer readings, can we infer if the biking activity involved both straight paths and sharp turns? Explain the relationship between the gyroscopic data and accelerometer data to support your answer.\n",
      "2. How can we identify instances of rapid acceleration or deceleration during biking by analyzing the gyroscopic and accelerometer data? Provide specific examples from the given sensor readings to demonstrate your analysis.\n",
      "3. Is it possible to determine the intensity of the biking activity, such as the speed at which the user was biking, by examining the gyroscopic and accelerometer data? Explain the key indicators in the sensor data that can help estimate the intensity of the biking session.\n",
      "4. Looking at the gyroscope data and accelerometer data, can we differentiate between the motion of the bike itself and the motion of the user riding the bike? What specific patterns or characteristics in the sensor readings support your differentiation?\n",
      "5. How do the sharp spikes in the gyroscopic data align with the nature of biking activity mentioned in the summary? Can you provide a scenario during biking that could lead to these sharp spikes in the gyroscope readings?\n",
      "6. In what ways do the consistent accelerometer values along a particular axis and the periods of low accelerometer readings relate to the user's movements during biking? How are these patterns reflective of the dynamics of biking on different terrains?\n",
      "7. Can you identify any specific instances of the user potentially going downhill or uphill during the biking activity by analyzing the accelerometer data? What characteristics in the accelerometer readings indicate changes in elevation during biking?\n",
      "8. From the gyroscope and accelerometer data, can we determine if the user experienced any instances of hitting bumps, potholes, or rough terrain while biking? What specific changes in the sensor readings would suggest such encounters?\n",
      "9. If the user were to suddenly brake during biking, how would the gyroscope and accelerometer data reflect this action? Describe the expected patterns or anomalies in the sensor readings that would indicate abrupt deceleration.\n",
      "10. Considering the erratic acceleration patterns in the accelerometer data, can we speculate on the user's biking style or behavior during the activity? How do these irregular accelerations contribute to the overall understanding of the user's biking experience on diverse terrains?\n",
      "[]\n"
     ]
    },
    {
     "name": "stderr",
     "output_type": "stream",
     "text": [
      " 81%|████████  | 8498/10500 [00:14<00:04, 439.94it/s]"
     ]
    },
    {
     "name": "stdout",
     "output_type": "stream",
     "text": [
      "Small answer dropping: - The\n"
     ]
    },
    {
     "name": "stderr",
     "output_type": "stream",
     "text": [
      " 84%|████████▎ | 8781/10500 [00:15<00:02, 591.38it/s]"
     ]
    },
    {
     "name": "stdout",
     "output_type": "stream",
     "text": [
      "Small answer dropping: Advanced\n"
     ]
    },
    {
     "name": "stderr",
     "output_type": "stream",
     "text": [
      " 86%|████████▋ | 9082/10500 [00:15<00:02, 696.80it/s]"
     ]
    },
    {
     "name": "stdout",
     "output_type": "stream",
     "text": [
      "Small answer dropping: Answer:\n"
     ]
    },
    {
     "name": "stderr",
     "output_type": "stream",
     "text": [
      " 91%|█████████▏| 9594/10500 [00:16<00:01, 665.84it/s]"
     ]
    },
    {
     "name": "stdout",
     "output_type": "stream",
     "text": [
      "Small answer dropping: Irregular\n"
     ]
    },
    {
     "name": "stderr",
     "output_type": "stream",
     "text": [
      " 99%|█████████▉| 10405/10500 [00:17<00:00, 647.78it/s]"
     ]
    },
    {
     "name": "stdout",
     "output_type": "stream",
     "text": [
      "Small answer dropping: Answer:\n",
      "Small answer dropping: Answer:\n",
      "Small answer dropping: Answer:\n",
      "Small answer dropping: Answer:\n"
     ]
    },
    {
     "name": "stderr",
     "output_type": "stream",
     "text": [
      "100%|██████████| 10500/10500 [00:17<00:00, 588.03it/s]\n"
     ]
    },
    {
     "name": "stdout",
     "output_type": "stream",
     "text": [
      "Small answer dropping: The\n",
      "Missing: 2238, 2.1314285714285712%\n"
     ]
    },
    {
     "name": "stderr",
     "output_type": "stream",
     "text": [
      "  5%|▌         | 109/2088 [00:00<00:03, 519.26it/s]"
     ]
    },
    {
     "name": "stdout",
     "output_type": "stream",
     "text": [
      "10 missing:1. Based on the provided gyroscope data during walking, can you explain how the angular velocity values in each axis correlate with the motion of the person? \n",
      "2. How do the peaks and valleys in the accelerometer data relate to the different phases of a walking cycle, such as heel strike and toe-off?\n",
      "3. By analyzing the gyroscope data, can you estimate the average cadence or step frequency of the walking activity?\n",
      "4. How do the gyroscope and accelerometer data together indicate the process of changing directions while walking, such as making a turn?\n",
      "5. Can you determine the stride length or step size of the person based on the patterns observed in the gyroscope and accelerometer data during walking?\n",
      "6. In the gyroscope data, how do you differentiate between movement artifacts caused by hand gestures or phone positioning versus actual body movements during walking?\n",
      "7. How do the gyroscope and accelerometer readings align with the narrative of a brief pause during the walking activity? What specific values or trends indicate this pause?\n",
      "8. Can you identify any irregularities or inconsistencies in the gyroscope and accelerometer data that deviate from the expected patterns of a typical walking gait?\n",
      "9. Considering the sensor data patterns, can you infer whether the walking activity was performed on a flat surface or on inclines or declines?\n",
      "10. How would the analysis of gyroscope and accelerometer data during walking differ if the person was carrying additional weight or objects in their hands compared to walking unencumbered?\n",
      "[]\n"
     ]
    },
    {
     "name": "stderr",
     "output_type": "stream",
     "text": [
      " 42%|████▏     | 876/2088 [00:01<00:02, 544.60it/s]"
     ]
    },
    {
     "name": "stdout",
     "output_type": "stream",
     "text": [
      "Small answer dropping: - **\n"
     ]
    },
    {
     "name": "stderr",
     "output_type": "stream",
     "text": [
      " 50%|█████     | 1053/2088 [00:02<00:01, 554.49it/s]"
     ]
    },
    {
     "name": "stdout",
     "output_type": "stream",
     "text": [
      "10 missing:1. Given the gyroscope readings oscillating around zero on all axes, what does this imply about the user's rotational movement during the standing activity?\n",
      "2. How do the consistent accelerometer readings around 9.8 m/s^2 on the z-axis confirm that the user is stationary during the activity?\n",
      "3. Can you explain how the minimal changes in both the gyroscope and accelerometer data indicate that the user is not engaged in any significant movement while standing?\n",
      "4. Considering the minimal variations in the sensor data, what physiological explanations could be given for the slight fluctuations observed during the stationary standing activity?\n",
      "5. How do the gyroscopic readings of negligible angular velocity changes support the conclusion that the user is not performing any dynamic movements while standing?\n",
      "6. Given the stationary position, what other parameters or sensor readings could potentially be analyzed to further confirm the lack of movement during the activity?\n",
      "7. Could the slight variations in the accelerometer data be attributed to any external factors or equipment limitations rather than the user's actual movement while standing?\n",
      "8. How would the sensor data differ if the user was swaying slightly while standing compared to being completely still? Can you provide a hypothetical scenario based on the given IMU readings?\n",
      "9. What specific patterns or trends in the gyroscope and accelerometer data would indicate intentional movement rather than involuntary shifts while standing?\n",
      "10. Considering the overall IMU data depicting a stationary position, how would the sensor readings change if the user started performing a slow, controlled movement while maintaining the standing posture?\n",
      "[]\n"
     ]
    },
    {
     "name": "stderr",
     "output_type": "stream",
     "text": [
      " 65%|██████▌   | 1359/2088 [00:02<00:01, 556.45it/s]"
     ]
    },
    {
     "name": "stdout",
     "output_type": "stream",
     "text": [
      "Small answer dropping: 1.\n"
     ]
    },
    {
     "name": "stderr",
     "output_type": "stream",
     "text": [
      " 83%|████████▎ | 1739/2088 [00:03<00:00, 541.16it/s]"
     ]
    },
    {
     "name": "stdout",
     "output_type": "stream",
     "text": [
      "Small answer dropping: Yes\n",
      "10 missing:1. How can the abrupt movements observed during the descent of stairs be identified in the gyroscope data?\n",
      "2. How do the fluctuations in the accelerometer readings align with the user's preparation to start descending stairs?\n",
      "3. Can the varying tilts and rotations in the gyroscope data be correlated with specific steps taken during the descent?\n",
      "4. How do the sudden spikes in accelerometer values correspond to the foot landing on each step during the descent of stairs?\n",
      "5. In what ways do the gyroscope readings reflect the user's adjustment to different steps while descending stairs?\n",
      "6. How does the consistent downward trend in the z-axis of the accelerometer data indicate the user's continuous descent down the stairs?\n",
      "7. What role do the rapid changes in orientation in the gyroscope data play in the user's navigation through each step during the descent?\n",
      "8. How do the occasional pauses observed in the accelerometer data affect the overall pattern of the user's descent down the stairs?\n",
      "9. Can the minor corrections in balance and position seen in the gyroscope data be linked to specific movements made by the user during the descent?\n",
      "10. How do the coordinated movements implied by the simultaneous fluctuations in both accelerometer and gyroscope data contribute to the user's stability and control while descending stairs?\n",
      "[]\n"
     ]
    },
    {
     "name": "stderr",
     "output_type": "stream",
     "text": [
      "100%|██████████| 2088/2088 [00:03<00:00, 526.77it/s]"
     ]
    },
    {
     "name": "stdout",
     "output_type": "stream",
     "text": [
      "Missing: 348, 1.6666666666666667%\n"
     ]
    },
    {
     "name": "stderr",
     "output_type": "stream",
     "text": [
      "\n"
     ]
    }
   ],
   "source": [
    "training_jsonl_filepath = \"llasa_training_v1.jsonl\"\n",
    "\n",
    "root_data_dir = \"/hdd/LLM/limuBERT_data/extracted_data\"\n",
    "\n",
    "data_file_name = \"data_20_120.npy\"\n",
    "label_file_name = \"label_20_120.npy\"\n",
    "\n",
    "\n",
    "with open('/hdd/LLM/limuBERT_data/dataset_activity_label.json') as json_file:\n",
    "    dataset_activity_label_dict = json.load(json_file)\n",
    "\n",
    "\n",
    "last_axis_dict = {\n",
    "    \"hhar\": 2, \"motion\":0, \"shoaib\":0, \"uci\":0\n",
    "}\n",
    "datasets = last_axis_dict.keys()\n",
    "\n",
    "all_qa_pair = []\n",
    "qa_pair_list = []\n",
    "for dataset in datasets:\n",
    "    p = 0\n",
    "    sample_count = 0\n",
    "    with open(f\"/hdd/LLM/opensqa_10hz_{dataset}.jsonl\",\"r\") as f:\n",
    "        samples = f.readlines()\n",
    "    sensor_data = np.load(os.path.join(root_data_dir, dataset, data_file_name))\n",
    "    sensor_data = limubert_normalize(sensor_data)\n",
    "    \n",
    "    for sample in tqdm(samples):\n",
    "        qa_pairs, missing = one_example(sample)\n",
    "        assert missing>=0, f\"Extra: {qa_pairs} Missing: {missing}\"\n",
    "        if missing>5:\n",
    "            print(f\"{missing} missing:{json.loads(sample)['messages'][2]['content']}\")\n",
    "            print(qa_pairs)\n",
    "            if missing<10:\n",
    "                print(\"Potential corner case\")\n",
    "        else:\n",
    "            # accl, gyro = sensor_data[sample_count][:, 0:3], sensor_data[sample_count][:, 3:6] # acel, gyro seperate\n",
    "            accl_gyro = sensor_data[sample_count][:,:6] # accl, gyro together\n",
    "            all_qa_pair.extend(qa_pairs)\n",
    "            for i, (q, a) in enumerate(qa_pairs):\n",
    "                sensor_sample_id = f\"{sample_count}_{i}\"\n",
    "                sensor_sample_filepath = os.path.join(image_dir , f'{dataset}/sensor_image_{sample_count}.npy')\n",
    "                np.save(sensor_sample_filepath, accl_gyro)\n",
    "                qa_pair = {\n",
    "                    \"id\": sensor_sample_id,\n",
    "                    \"image\": sensor_sample_filepath, # Sensor csv\n",
    "                    \"conversations\": [\n",
    "                        {\"from\": \"human\", \"value\": f\"<image>\\n{q}\"}, # question\n",
    "                        {\"from\": \"gpt\", \"value\": a}, # answers\n",
    "                    ],\n",
    "                }\n",
    "                qa_pair_list.append(qa_pair)\n",
    "                \n",
    "        sample_count += 1\n",
    "        p+=missing\n",
    "    print(f\"Missing: {p}, {100*p/(len(sensor_data)*10)}%\")"
   ]
  },
  {
   "cell_type": "code",
   "execution_count": 6,
   "id": "92390aab",
   "metadata": {},
   "outputs": [],
   "source": [
    "with open(training_jsonl_filepath, \"w\") as outfile:\n",
    "    json.dump(qa_pair_list, outfile)"
   ]
  },
  {
   "cell_type": "code",
   "execution_count": 7,
   "id": "605b260d",
   "metadata": {},
   "outputs": [
    {
     "data": {
      "text/plain": [
       "('How can we determine the energy expenditure or effort exerted by the user while climbing stairs based on the provided sensor data?',\n",
       " 'Moments of rest or pause during the stair climbing activity can be identified from the gyroscope and accelerometer data by looking for periods of minimal or stable movement. In the gyroscope data, these moments would appear as consistent values with minimal fluctuations, indicating a pause in orientation adjustments. Simultaneously, in the accelerometer data, moments of rest or pause would be characterized by steady acceleration values in all axes, signifying little to no vertical motion. By detecting these stable intervals in both sensor datasets, we can pinpoint moments of rest or pause during the stair climbing activity.')"
      ]
     },
     "execution_count": 7,
     "metadata": {},
     "output_type": "execute_result"
    }
   ],
   "source": [
    "all_qa_pair[50000]"
   ]
  }
 ],
 "metadata": {
  "kernelspec": {
   "display_name": "llasa_kernel",
   "language": "python",
   "name": "llasa_kernel"
  },
  "language_info": {
   "codemirror_mode": {
    "name": "ipython",
    "version": 3
   },
   "file_extension": ".py",
   "mimetype": "text/x-python",
   "name": "python",
   "nbconvert_exporter": "python",
   "pygments_lexer": "ipython3",
   "version": "3.9.19"
  }
 },
 "nbformat": 4,
 "nbformat_minor": 5
}
